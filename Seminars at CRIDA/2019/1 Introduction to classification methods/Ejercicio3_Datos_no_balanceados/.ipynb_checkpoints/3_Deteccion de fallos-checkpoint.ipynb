{
 "cells": [
  {
   "cell_type": "markdown",
   "metadata": {},
   "source": [
    "## Cargamos datos"
   ]
  },
  {
   "cell_type": "code",
   "execution_count": 10,
   "metadata": {
    "scrolled": true
   },
   "outputs": [
    {
     "data": {
      "text/html": [
       "<div>\n",
       "<style scoped>\n",
       "    .dataframe tbody tr th:only-of-type {\n",
       "        vertical-align: middle;\n",
       "    }\n",
       "\n",
       "    .dataframe tbody tr th {\n",
       "        vertical-align: top;\n",
       "    }\n",
       "\n",
       "    .dataframe thead th {\n",
       "        text-align: right;\n",
       "    }\n",
       "</style>\n",
       "<table border=\"1\" class=\"dataframe\">\n",
       "  <thead>\n",
       "    <tr style=\"text-align: right;\">\n",
       "      <th></th>\n",
       "      <th>client</th>\n",
       "      <th>var1</th>\n",
       "      <th>var2</th>\n",
       "      <th>var3</th>\n",
       "      <th>var4</th>\n",
       "    </tr>\n",
       "  </thead>\n",
       "  <tbody>\n",
       "    <tr>\n",
       "      <th>0</th>\n",
       "      <td>1</td>\n",
       "      <td>1</td>\n",
       "      <td>1</td>\n",
       "      <td>1</td>\n",
       "      <td>1</td>\n",
       "    </tr>\n",
       "    <tr>\n",
       "      <th>1</th>\n",
       "      <td>0</td>\n",
       "      <td>1</td>\n",
       "      <td>1</td>\n",
       "      <td>1</td>\n",
       "      <td>2</td>\n",
       "    </tr>\n",
       "    <tr>\n",
       "      <th>2</th>\n",
       "      <td>0</td>\n",
       "      <td>1</td>\n",
       "      <td>1</td>\n",
       "      <td>1</td>\n",
       "      <td>3</td>\n",
       "    </tr>\n",
       "    <tr>\n",
       "      <th>3</th>\n",
       "      <td>0</td>\n",
       "      <td>1</td>\n",
       "      <td>1</td>\n",
       "      <td>1</td>\n",
       "      <td>4</td>\n",
       "    </tr>\n",
       "    <tr>\n",
       "      <th>4</th>\n",
       "      <td>0</td>\n",
       "      <td>1</td>\n",
       "      <td>1</td>\n",
       "      <td>1</td>\n",
       "      <td>5</td>\n",
       "    </tr>\n",
       "  </tbody>\n",
       "</table>\n",
       "</div>"
      ],
      "text/plain": [
       "   client  var1  var2  var3  var4\n",
       "0       1     1     1     1     1\n",
       "1       0     1     1     1     2\n",
       "2       0     1     1     1     3\n",
       "3       0     1     1     1     4\n",
       "4       0     1     1     1     5"
      ]
     },
     "execution_count": 10,
     "metadata": {},
     "output_type": "execute_result"
    }
   ],
   "source": [
    "import pandas as pd\n",
    "import numpy as np\n",
    " \n",
    "# Read dataset\n",
    "#df = pd.read_csv('datos_no_balanceados.csv')\n",
    "\n",
    "# Display example observations\n",
    "#df.head()\n"
   ]
  },
  {
   "cell_type": "markdown",
   "metadata": {},
   "source": [
    "## Comprobamos cuantos clientes hay de cada clase"
   ]
  },
  {
   "cell_type": "code",
   "execution_count": 15,
   "metadata": {
    "scrolled": true
   },
   "outputs": [
    {
     "data": {
      "text/plain": [
       "<matplotlib.axes._subplots.AxesSubplot at 0x7f0422354550>"
      ]
     },
     "execution_count": 15,
     "metadata": {},
     "output_type": "execute_result"
    },
    {
     "data": {
      "image/png": "[encoded data removed]",
      "text/plain": [
       "<matplotlib.figure.Figure at 0x7f0422318f60>"
      ]
     },
     "metadata": {},
     "output_type": "display_data"
    }
   ],
   "source": [
    "import matplotlib.pyplot as plt\n",
    "\n",
    "#df['client'].value_counts().plot.bar()\n"
   ]
  },
  {
   "cell_type": "code",
   "execution_count": 18,
   "metadata": {
    "scrolled": true
   },
   "outputs": [
    {
     "name": "stdout",
     "output_type": "stream",
     "text": [
      "0    576\n",
      "1     49\n",
      "Name: client, dtype: int64\n"
     ]
    }
   ],
   "source": [
    "#print(df['client'].value_counts())\n"
   ]
  },
  {
   "cell_type": "markdown",
   "metadata": {},
   "source": [
    "# Dividimos en train y test"
   ]
  },
  {
   "cell_type": "code",
   "execution_count": 47,
   "metadata": {},
   "outputs": [],
   "source": [
    "from sklearn.model_selection import train_test_split\n",
    "from sklearn.metrics import accuracy_score"
   ]
  },
  {
   "cell_type": "code",
   "execution_count": 48,
   "metadata": {},
   "outputs": [],
   "source": [
    "# Separate input features (X) and target variable (y)\n",
    "#y = df.client\n",
    "#X = df.drop('client', axis=1)\n",
    "#X_train, X_test, y_train, y_test = train_test_split(X, y, random_state=0)\n"
   ]
  },
  {
   "cell_type": "code",
   "execution_count": 49,
   "metadata": {},
   "outputs": [
    {
     "name": "stdout",
     "output_type": "stream",
     "text": [
      "Accuracy of Decision Tree classifier on training set: 0.98\n",
      "Accuracy of Decision Tree classifier on test set: 0.90\n"
     ]
    },
    {
     "data": {
      "text/plain": [
       "array([0.23477098, 0.24327381, 0.23102696, 0.29092826])"
      ]
     },
     "execution_count": 49,
     "metadata": {},
     "output_type": "execute_result"
    }
   ],
   "source": [
    "## Realizamos una clasificación\n",
    "#from sklearn.ensemble import RandomForestClassifier\n",
    "#clf = RandomForestClassifier().fit(X_train, y_train)\n",
    "#pd.DataFrame(data = {\"predict\":clf.predict(X_test), \"real\": y_test})\n",
    "\n",
    "#print('Accuracy of Decision Tree classifier on training set: {:.2f}'\n",
    "#     .format(clf.score(X_train, y_train)))\n",
    "#print('Accuracy of Decision Tree classifier on test set: {:.2f}'\n",
    "#     .format(clf.score(X_test, y_test)))\n",
    "\n",
    "#clf.feature_importances_"
   ]
  },
  {
   "cell_type": "markdown",
   "metadata": {},
   "source": [
    "## ¿Con la accuracy que hemos obtenido esta bien?\n",
    "Hemos obtenido un 92% de acierto sobre los datos de test. \n",
    "¿hemos cumplido con nuestro cometido?"
   ]
  },
  {
   "cell_type": "code",
   "execution_count": 55,
   "metadata": {},
   "outputs": [
    {
     "name": "stdout",
     "output_type": "stream",
     "text": [
      "[[141   8]\n",
      " [  8   0]]\n",
      "True Negative: 141\n",
      "False Positive: 8\n",
      "False Negative: 8\n",
      "True Positive: 0\n"
     ]
    }
   ],
   "source": [
    "# Guardamos los valores que hemos predecido:\n",
    "#from sklearn.metrics import confusion_matrix\n",
    "#y_true = y_test\n",
    "#y_pred = clf.predict(X_test)\n",
    "\n",
    "#print(confusion_matrix(y_true, y_pred))\n",
    "\n",
    "#tn, fp, fn, tp = confusion_matrix(y_true, y_pred).ravel()\n",
    "#print(\"True Negative: \" + str(tn))\n",
    "#print(\"False Positive: \" + str(fp))\n",
    "#print(\"False Negative: \" + str(fn))\n",
    "#print(\"True Positive: \" + str(tp))"
   ]
  },
  {
   "cell_type": "markdown",
   "metadata": {},
   "source": [
    "## Absolutamente no hemos cumplido nuestros objetivos"
   ]
  },
  {
   "cell_type": "markdown",
   "metadata": {},
   "source": [
    "## Opción 1: Upsample la categoría minoritaria"
   ]
  },
  {
   "cell_type": "code",
   "execution_count": 56,
   "metadata": {},
   "outputs": [
    {
     "data": {
      "text/plain": [
       "1    576\n",
       "0    576\n",
       "Name: client, dtype: int64"
      ]
     },
     "execution_count": 56,
     "metadata": {},
     "output_type": "execute_result"
    }
   ],
   "source": [
    "from sklearn.utils import resample\n",
    "# Separate majority and minority classes\n",
    "#df_majority = df[df.client==0]\n",
    "#df_minority = df[df.client==1]\n",
    " \n",
    "# Upsample minority class\n",
    "#df_minority_upsampled = resample(df_minority, \n",
    "#                                 replace=True,     # sample with replacement\n",
    "#                                 n_samples=576,    # to match majority class\n",
    "#                                 random_state=123) # reproducible results\n",
    " \n",
    "# Combine majority class with upsampled minority class\n",
    "#df_upsampled = pd.concat([df_majority, df_minority_upsampled])\n",
    " \n",
    "# Display new class counts\n",
    "#df_upsampled.client.value_counts()\n",
    "# 1    576\n",
    "# 0    576\n",
    "# Name: balance, dtype: int64"
   ]
  },
  {
   "cell_type": "code",
   "execution_count": 57,
   "metadata": {},
   "outputs": [
    {
     "name": "stdout",
     "output_type": "stream",
     "text": [
      "Accuracy of Decision Tree classifier on training set: 1.00\n",
      "Accuracy of Decision Tree classifier on test set: 0.98\n"
     ]
    }
   ],
   "source": [
    "# Separate input features (X) and target variable (y)\n",
    "#y = df_upsampled.client\n",
    "#X = df_upsampled.drop('client', axis=1)\n",
    "#X_train, X_test, y_train, y_test = train_test_split(X, y, random_state=0)\n",
    "\n",
    "# Train model\n",
    "#clf = RandomForestClassifier().fit(X_train, y_train)\n",
    " \n",
    "# Predict on training set\n",
    "#pred_y_1 = clf.predict(X_test)\n",
    " \n",
    "#print('Accuracy of Decision Tree classifier on training set: {:.2f}'\n",
    "#     .format(clf.score(X_train, y_train)))\n",
    "#print('Accuracy of Decision Tree classifier on test set: {:.2f}'\n",
    "#     .format(clf.score(X_test, y_test)))"
   ]
  },
  {
   "cell_type": "code",
   "execution_count": 92,
   "metadata": {},
   "outputs": [
    {
     "name": "stdout",
     "output_type": "stream",
     "text": [
      "[[147   2]\n",
      " [  8   0]]\n",
      "True Negative: 147\n",
      "False Positive: 2\n",
      "False Negative: 8\n",
      "True Positive: 0\n"
     ]
    }
   ],
   "source": [
    "# Guardamos los valores que hemos predecido:\n",
    "#from sklearn.metrics import confusion_matrix\n",
    "#y_true = y_test\n",
    "#y_pred = clf.predict(X_test)\n",
    "\n",
    "#print(confusion_matrix(y_true, y_pred))\n",
    "\n",
    "#tn, fp, fn, tp = confusion_matrix(y_true, y_pred).ravel()\n",
    "#print(\"True Negative: \" + str(tn))\n",
    "#print(\"False Positive: \" + str(fp))\n",
    "#print(\"False Negative: \" + str(fn))\n",
    "#print(\"True Positive: \" + str(tp))"
   ]
  },
  {
   "cell_type": "markdown",
   "metadata": {},
   "source": [
    "## Opción 2: Downsample la categoría mayoritaria\n"
   ]
  },
  {
   "cell_type": "code",
   "execution_count": 60,
   "metadata": {},
   "outputs": [
    {
     "data": {
      "text/plain": [
       "1    49\n",
       "0    49\n",
       "Name: client, dtype: int64"
      ]
     },
     "execution_count": 60,
     "metadata": {},
     "output_type": "execute_result"
    }
   ],
   "source": [
    "# Separate majority and minority classes\n",
    "#df_majority = df[df.client==0]\n",
    "#df_minority = df[df.client==1]\n",
    " \n",
    "# Downsample majority class\n",
    "#df_majority_downsampled = resample(df_majority, \n",
    "#                                 replace=False,    # sample without replacement\n",
    "#                                 n_samples=49,     # to match minority class\n",
    "#                                 random_state=123) # reproducible results\n",
    " \n",
    "# Combine minority class with downsampled majority class\n",
    "#df_downsampled = pd.concat([df_majority_downsampled, df_minority])\n",
    " \n",
    "# Display new class counts\n",
    "#df_downsampled.client.value_counts()\n",
    "# 1    49\n",
    "# 0    49\n",
    "# Name: balance, dtype: int64"
   ]
  },
  {
   "cell_type": "code",
   "execution_count": 61,
   "metadata": {},
   "outputs": [
    {
     "name": "stdout",
     "output_type": "stream",
     "text": [
      "Accuracy of Decision Tree classifier on training set: 0.97\n",
      "Accuracy of Decision Tree classifier on test set: 0.40\n"
     ]
    }
   ],
   "source": [
    "# Separate input features (X) and target variable (y)\n",
    "#y = df_downsampled.client\n",
    "#X = df_downsampled.drop('client', axis=1)\n",
    "#X_train, X_test, y_train, y_test = train_test_split(X, y, random_state=0)\n",
    "\n",
    "# Train model\n",
    "#clf = RandomForestClassifier().fit(X_train, y_train)\n",
    " \n",
    "# Predict on training set\n",
    "#pred_y_1 = clf.predict(X_test)\n",
    " \n",
    "#print('Accuracy of Decision Tree classifier on training set: {:.2f}'\n",
    "#     .format(clf.score(X_train, y_train)))\n",
    "#print('Accuracy of Decision Tree classifier on test set: {:.2f}'\n",
    "#     .format(clf.score(X_test, y_test)))"
   ]
  },
  {
   "cell_type": "code",
   "execution_count": 62,
   "metadata": {},
   "outputs": [
    {
     "name": "stdout",
     "output_type": "stream",
     "text": [
      "[[6 7]\n",
      " [8 4]]\n",
      "True Negative: 6\n",
      "False Positive: 7\n",
      "False Negative: 8\n",
      "True Positive: 4\n"
     ]
    }
   ],
   "source": [
    "# Guardamos los valores que hemos predecido:\n",
    "#from sklearn.metrics import confusion_matrix\n",
    "#y_true = y_test\n",
    "#y_pred = clf.predict(X_test)\n",
    "\n",
    "#print(confusion_matrix(y_true, y_pred))\n",
    "\n",
    "#tn, fp, fn, tp = confusion_matrix(y_true, y_pred).ravel()\n",
    "#print(\"True Negative: \" + str(tn))\n",
    "#print(\"False Positive: \" + str(fp))\n",
    "#print(\"False Negative: \" + str(fn))\n",
    "#print(\"True Positive: \" + str(tp))"
   ]
  },
  {
   "cell_type": "markdown",
   "metadata": {},
   "source": [
    "## Otras técnicas: ROC Curve, darle pesos al algoritmo"
   ]
  },
  {
   "cell_type": "code",
   "execution_count": 64,
   "metadata": {},
   "outputs": [],
   "source": [
    "# Separate input features (X) and target variable (y)\n",
    "#y = df.client\n",
    "#X = df.drop('client', axis=1)\n",
    "#X_train, X_test, y_train, y_test = train_test_split(X, y, random_state=0)\n"
   ]
  },
  {
   "cell_type": "code",
   "execution_count": 120,
   "metadata": {},
   "outputs": [
    {
     "name": "stdout",
     "output_type": "stream",
     "text": [
      "Accuracy of Decision Tree classifier on training set: 0.98\n",
      "Accuracy of Decision Tree classifier on test set: 0.90\n",
      "[[141   8]\n",
      " [  8   0]]\n",
      "True Negative: 141\n",
      "False Positive: 8\n",
      "False Negative: 8\n",
      "True Positive: 0\n"
     ]
    }
   ],
   "source": [
    "# Train model\n",
    "#clf = RandomForestClassifier(class_weight={0:1,1:20}).fit(X_train, y_train)\n",
    " \n",
    "# Predict on training set\n",
    "#pred_y_1 = clf.predict(X_test)\n",
    " \n",
    "#print('Accuracy of Decision Tree classifier on training set: {:.2f}'\n",
    "#     .format(clf.score(X_train, y_train)))\n",
    "#print('Accuracy of Decision Tree classifier on test set: {:.2f}'\n",
    "#     .format(clf.score(X_test, y_test)))\n",
    "\n",
    "# Guardamos los valores que hemos predecido:\n",
    "#from sklearn.metrics import confusion_matrix\n",
    "#y_true = y_test\n",
    "#y_pred = clf.predict(X_test)\n",
    "#\n",
    "#print(confusion_matrix(y_true, y_pred))\n",
    "\n",
    "#tn, fp, fn, tp = confusion_matrix(y_true, y_pred).ravel()\n",
    "#print(\"True Negative: \" + str(tn))\n",
    "#print(\"False Positive: \" + str(fp))\n",
    "#print(\"False Negative: \" + str(fn))\n",
    "#print(\"True Positive: \" + str(tp))"
   ]
  }
 ],
 "metadata": {
  "kernelspec": {
   "display_name": "Python 3",
   "language": "python",
   "name": "python3"
  },
  "language_info": {
   "codemirror_mode": {
    "name": "ipython",
    "version": 3
   },
   "file_extension": ".py",
   "mimetype": "text/x-python",
   "name": "python",
   "nbconvert_exporter": "python",
   "pygments_lexer": "ipython3",
   "version": "3.6.6"
  }
 },
 "nbformat": 4,
 "nbformat_minor": 2
}
