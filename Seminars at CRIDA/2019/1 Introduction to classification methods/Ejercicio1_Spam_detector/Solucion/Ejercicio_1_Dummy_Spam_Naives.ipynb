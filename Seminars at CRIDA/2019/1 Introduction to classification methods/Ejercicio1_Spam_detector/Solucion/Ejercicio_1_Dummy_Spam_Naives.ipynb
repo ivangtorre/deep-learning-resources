{
 "cells": [
  {
   "cell_type": "markdown",
   "metadata": {},
   "source": [
    "## Detector de Spam simple\n",
    "Vamos a plantear un detector de Spam basado únicamente en un indicador. La palabra \"herencia\"\n"
   ]
  },
  {
   "cell_type": "code",
   "execution_count": 13,
   "metadata": {},
   "outputs": [],
   "source": [
    "# De todos los mensajes de Spam, 1 de cada 10 contiene la palabra \"herencia\"\n",
    "P_herencia_Spam = 0.10\n",
    "\n",
    "# De entre todos los mails de la bandeja de entrada el 20% son spam:\n",
    "Pr_Spam = 0.2\n",
    "\n",
    "# La probabilidad de tener la palabra \"herencia\" en los correos buenos es 1 de cada 1000\n",
    "Pr_herencia_ham = 0.001\n",
    "\n",
    "\n"
   ]
  },
  {
   "cell_type": "code",
   "execution_count": 14,
   "metadata": {},
   "outputs": [
    {
     "name": "stdout",
     "output_type": "stream",
     "text": [
      "0.9615384615384616\n"
     ]
    }
   ],
   "source": [
    "# Me llega un mail con la palabra \"herencia\", cual es la probabilidad de que sea Spam\n",
    "P_Spam_conteniendo_herencia = P_herencia_Spam*Pr_Spam/(P_herencia_Spam*Pr_Spam + Pr_herencia_ham*(1-Pr_Spam))\n",
    "print(P_Spam_conteniendo_herencia)"
   ]
  }
 ],
 "metadata": {
  "kernelspec": {
   "display_name": "Python 3",
   "language": "python",
   "name": "python3"
  },
  "language_info": {
   "codemirror_mode": {
    "name": "ipython",
    "version": 3
   },
   "file_extension": ".py",
   "mimetype": "text/x-python",
   "name": "python",
   "nbconvert_exporter": "python",
   "pygments_lexer": "ipython3",
   "version": "3.6.6"
  }
 },
 "nbformat": 4,
 "nbformat_minor": 2
}
