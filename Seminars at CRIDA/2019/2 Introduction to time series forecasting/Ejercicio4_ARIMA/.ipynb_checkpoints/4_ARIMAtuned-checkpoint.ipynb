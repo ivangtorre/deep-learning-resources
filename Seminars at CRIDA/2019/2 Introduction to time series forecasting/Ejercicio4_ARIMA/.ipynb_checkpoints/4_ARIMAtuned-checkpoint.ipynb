{
 "cells": [
  {
   "cell_type": "markdown",
   "metadata": {},
   "source": [
    "# CASO REAL"
   ]
  },
  {
   "cell_type": "code",
   "execution_count": 1,
   "metadata": {
    "scrolled": true
   },
   "outputs": [
    {
     "data": {
      "text/html": [
       "<div>\n",
       "<style scoped>\n",
       "    .dataframe tbody tr th:only-of-type {\n",
       "        vertical-align: middle;\n",
       "    }\n",
       "\n",
       "    .dataframe tbody tr th {\n",
       "        vertical-align: top;\n",
       "    }\n",
       "\n",
       "    .dataframe thead th {\n",
       "        text-align: right;\n",
       "    }\n",
       "</style>\n",
       "<table border=\"1\" class=\"dataframe\">\n",
       "  <thead>\n",
       "    <tr style=\"text-align: right;\">\n",
       "      <th></th>\n",
       "      <th>PesoNeto</th>\n",
       "      <th>PesoProm</th>\n",
       "      <th>risk_daysThIn</th>\n",
       "      <th>risk_daysThOut</th>\n",
       "      <th>sab_hol1</th>\n",
       "      <th>sab_y_otros_hol1</th>\n",
       "      <th>sab_hol2</th>\n",
       "      <th>sab_y_otros_hol2</th>\n",
       "      <th>lun_hol1</th>\n",
       "      <th>lun_y_otros_hol1</th>\n",
       "      <th>...</th>\n",
       "      <th>prec-1</th>\n",
       "      <th>prec-2</th>\n",
       "      <th>pepiPeso-1</th>\n",
       "      <th>pepiPeso-2</th>\n",
       "      <th>pepiPeso-3</th>\n",
       "      <th>pepiPeso-4</th>\n",
       "      <th>pepiPeso-5</th>\n",
       "      <th>week</th>\n",
       "      <th>year</th>\n",
       "      <th>month</th>\n",
       "    </tr>\n",
       "    <tr>\n",
       "      <th>Fecha</th>\n",
       "      <th></th>\n",
       "      <th></th>\n",
       "      <th></th>\n",
       "      <th></th>\n",
       "      <th></th>\n",
       "      <th></th>\n",
       "      <th></th>\n",
       "      <th></th>\n",
       "      <th></th>\n",
       "      <th></th>\n",
       "      <th></th>\n",
       "      <th></th>\n",
       "      <th></th>\n",
       "      <th></th>\n",
       "      <th></th>\n",
       "      <th></th>\n",
       "      <th></th>\n",
       "      <th></th>\n",
       "      <th></th>\n",
       "      <th></th>\n",
       "      <th></th>\n",
       "    </tr>\n",
       "  </thead>\n",
       "  <tbody>\n",
       "    <tr>\n",
       "      <th>2014-09-07</th>\n",
       "      <td>17.940056</td>\n",
       "      <td>825.549472</td>\n",
       "      <td>0.020309</td>\n",
       "      <td>0.000000</td>\n",
       "      <td>0.0</td>\n",
       "      <td>0.0</td>\n",
       "      <td>0.0</td>\n",
       "      <td>0.0</td>\n",
       "      <td>0.0</td>\n",
       "      <td>0.0</td>\n",
       "      <td>...</td>\n",
       "      <td>NaN</td>\n",
       "      <td>NaN</td>\n",
       "      <td>NaN</td>\n",
       "      <td>NaN</td>\n",
       "      <td>NaN</td>\n",
       "      <td>NaN</td>\n",
       "      <td>NaN</td>\n",
       "      <td>0.121857</td>\n",
       "      <td>6.817221</td>\n",
       "      <td>0.030464</td>\n",
       "    </tr>\n",
       "    <tr>\n",
       "      <th>2014-09-14</th>\n",
       "      <td>151.058656</td>\n",
       "      <td>1107.365185</td>\n",
       "      <td>0.016925</td>\n",
       "      <td>0.000000</td>\n",
       "      <td>0.0</td>\n",
       "      <td>0.0</td>\n",
       "      <td>0.0</td>\n",
       "      <td>0.0</td>\n",
       "      <td>0.0</td>\n",
       "      <td>0.0</td>\n",
       "      <td>...</td>\n",
       "      <td>0.002713</td>\n",
       "      <td>NaN</td>\n",
       "      <td>136.026243</td>\n",
       "      <td>NaN</td>\n",
       "      <td>NaN</td>\n",
       "      <td>NaN</td>\n",
       "      <td>NaN</td>\n",
       "      <td>0.125242</td>\n",
       "      <td>6.817221</td>\n",
       "      <td>0.030464</td>\n",
       "    </tr>\n",
       "    <tr>\n",
       "      <th>2014-09-21</th>\n",
       "      <td>466.289133</td>\n",
       "      <td>1759.997341</td>\n",
       "      <td>0.003385</td>\n",
       "      <td>0.003385</td>\n",
       "      <td>0.0</td>\n",
       "      <td>0.0</td>\n",
       "      <td>0.0</td>\n",
       "      <td>0.0</td>\n",
       "      <td>0.0</td>\n",
       "      <td>0.0</td>\n",
       "      <td>...</td>\n",
       "      <td>0.001564</td>\n",
       "      <td>0.002713</td>\n",
       "      <td>615.008812</td>\n",
       "      <td>136.026243</td>\n",
       "      <td>NaN</td>\n",
       "      <td>NaN</td>\n",
       "      <td>NaN</td>\n",
       "      <td>0.128627</td>\n",
       "      <td>6.817221</td>\n",
       "      <td>0.030464</td>\n",
       "    </tr>\n",
       "    <tr>\n",
       "      <th>2014-09-28</th>\n",
       "      <td>1216.741983</td>\n",
       "      <td>2372.115435</td>\n",
       "      <td>0.000000</td>\n",
       "      <td>0.000000</td>\n",
       "      <td>0.0</td>\n",
       "      <td>0.0</td>\n",
       "      <td>0.0</td>\n",
       "      <td>0.0</td>\n",
       "      <td>0.0</td>\n",
       "      <td>0.0</td>\n",
       "      <td>...</td>\n",
       "      <td>0.001629</td>\n",
       "      <td>0.001564</td>\n",
       "      <td>1390.625129</td>\n",
       "      <td>615.008812</td>\n",
       "      <td>136.026243</td>\n",
       "      <td>NaN</td>\n",
       "      <td>NaN</td>\n",
       "      <td>0.132012</td>\n",
       "      <td>6.817221</td>\n",
       "      <td>0.030464</td>\n",
       "    </tr>\n",
       "    <tr>\n",
       "      <th>2014-10-05</th>\n",
       "      <td>1694.086253</td>\n",
       "      <td>2984.975953</td>\n",
       "      <td>0.013540</td>\n",
       "      <td>0.000000</td>\n",
       "      <td>0.0</td>\n",
       "      <td>0.0</td>\n",
       "      <td>0.0</td>\n",
       "      <td>0.0</td>\n",
       "      <td>0.0</td>\n",
       "      <td>0.0</td>\n",
       "      <td>...</td>\n",
       "      <td>0.001616</td>\n",
       "      <td>0.001629</td>\n",
       "      <td>2396.408978</td>\n",
       "      <td>1390.625129</td>\n",
       "      <td>615.008812</td>\n",
       "      <td>136.026243</td>\n",
       "      <td>NaN</td>\n",
       "      <td>0.135397</td>\n",
       "      <td>6.817221</td>\n",
       "      <td>0.033849</td>\n",
       "    </tr>\n",
       "  </tbody>\n",
       "</table>\n",
       "<p>5 rows × 121 columns</p>\n",
       "</div>"
      ],
      "text/plain": [
       "               PesoNeto     PesoProm  risk_daysThIn  risk_daysThOut  sab_hol1  \\\n",
       "Fecha                                                                           \n",
       "2014-09-07    17.940056   825.549472       0.020309        0.000000       0.0   \n",
       "2014-09-14   151.058656  1107.365185       0.016925        0.000000       0.0   \n",
       "2014-09-21   466.289133  1759.997341       0.003385        0.003385       0.0   \n",
       "2014-09-28  1216.741983  2372.115435       0.000000        0.000000       0.0   \n",
       "2014-10-05  1694.086253  2984.975953       0.013540        0.000000       0.0   \n",
       "\n",
       "            sab_y_otros_hol1  sab_hol2  sab_y_otros_hol2  lun_hol1  \\\n",
       "Fecha                                                                \n",
       "2014-09-07               0.0       0.0               0.0       0.0   \n",
       "2014-09-14               0.0       0.0               0.0       0.0   \n",
       "2014-09-21               0.0       0.0               0.0       0.0   \n",
       "2014-09-28               0.0       0.0               0.0       0.0   \n",
       "2014-10-05               0.0       0.0               0.0       0.0   \n",
       "\n",
       "            lun_y_otros_hol1  ...    prec-1    prec-2   pepiPeso-1  \\\n",
       "Fecha                         ...                                    \n",
       "2014-09-07               0.0  ...       NaN       NaN          NaN   \n",
       "2014-09-14               0.0  ...  0.002713       NaN   136.026243   \n",
       "2014-09-21               0.0  ...  0.001564  0.002713   615.008812   \n",
       "2014-09-28               0.0  ...  0.001629  0.001564  1390.625129   \n",
       "2014-10-05               0.0  ...  0.001616  0.001629  2396.408978   \n",
       "\n",
       "             pepiPeso-2  pepiPeso-3  pepiPeso-4  pepiPeso-5      week  \\\n",
       "Fecha                                                                   \n",
       "2014-09-07          NaN         NaN         NaN         NaN  0.121857   \n",
       "2014-09-14          NaN         NaN         NaN         NaN  0.125242   \n",
       "2014-09-21   136.026243         NaN         NaN         NaN  0.128627   \n",
       "2014-09-28   615.008812  136.026243         NaN         NaN  0.132012   \n",
       "2014-10-05  1390.625129  615.008812  136.026243         NaN  0.135397   \n",
       "\n",
       "                year     month  \n",
       "Fecha                           \n",
       "2014-09-07  6.817221  0.030464  \n",
       "2014-09-14  6.817221  0.030464  \n",
       "2014-09-21  6.817221  0.030464  \n",
       "2014-09-28  6.817221  0.030464  \n",
       "2014-10-05  6.817221  0.033849  \n",
       "\n",
       "[5 rows x 121 columns]"
      ]
     },
     "execution_count": 1,
     "metadata": {},
     "output_type": "execute_result"
    }
   ],
   "source": [
    "import pandas as pd\n",
    "import time\n",
    "timestr = time.strftime(\"%Y%m%d-%H%M%S\")\n",
    "filename = \"data_anonymized\"\n",
    "file = \"data/\"+  filename + \".csv\"\n",
    "df = pd.read_csv(file,index_col=0, parse_dates=['Fecha'])\n",
    "\n",
    "# Limpiamos los datos y realizamos comprobaciones\n",
    "df.head()"
   ]
  },
  {
   "cell_type": "markdown",
   "metadata": {},
   "source": [
    "# Agrupar y crear la time series\n",
    "Agrupamos semanalmente y construimos una serie"
   ]
  },
  {
   "cell_type": "code",
   "execution_count": 2,
   "metadata": {
    "scrolled": true
   },
   "outputs": [
    {
     "data": {
      "text/plain": [
       "Fecha\n",
       "2014-09-07      17.940056\n",
       "2014-09-14     151.058656\n",
       "2014-09-21     466.289133\n",
       "2014-09-28    1216.741983\n",
       "2014-10-05    1694.086253\n",
       "dtype: float64"
      ]
     },
     "execution_count": 2,
     "metadata": {},
     "output_type": "execute_result"
    }
   ],
   "source": [
    "# Convertir el dataframe en una serie temporal\n",
    "ts = pd.Series(df[\"PesoNeto\"].values, index=df.index)\n",
    "ts.head()"
   ]
  },
  {
   "cell_type": "code",
   "execution_count": 4,
   "metadata": {},
   "outputs": [
    {
     "data": {
      "text/plain": [
       "[<matplotlib.lines.Line2D at 0x7faa9301e2d0>]"
      ]
     },
     "execution_count": 4,
     "metadata": {},
     "output_type": "execute_result"
    },
    {
     "data": {
      "image/png": "[encoded data removed]",
      "text/plain": [
       "<Figure size 432x288 with 1 Axes>"
      ]
     },
     "metadata": {
      "needs_background": "light"
     },
     "output_type": "display_data"
    }
   ],
   "source": [
    "# Representar la serie temporal\n",
    "import matplotlib.pyplot as plt\n",
    "plt.plot(ts)"
   ]
  },
  {
   "cell_type": "code",
   "execution_count": 5,
   "metadata": {
    "scrolled": true
   },
   "outputs": [
    {
     "data": {
      "image/png": "[encoded data removed]",
      "text/plain": [
       "<Figure size 432x288 with 4 Axes>"
      ]
     },
     "metadata": {
      "needs_background": "light"
     },
     "output_type": "display_data"
    }
   ],
   "source": [
    "# Descomposicion de la serie\n",
    "from statsmodels.tsa.seasonal import seasonal_decompose\n",
    "from matplotlib import pyplot\n",
    "series = ts\n",
    "result = seasonal_decompose(series, model='additive', freq=52)\n",
    "f = result.plot()\n",
    "pyplot.show()\n",
    "# Guardamos a fichero la imagen\n",
    "f.savefig(\"results/ARIMA/\" + \"_file:\" + filename + \"_\" + timestr + \"_Decomposition.pdf\")\n"
   ]
  },
  {
   "cell_type": "code",
   "execution_count": 6,
   "metadata": {},
   "outputs": [
    {
     "data": {
      "image/png": "[encoded data removed]",
      "text/plain": [
       "<Figure size 432x288 with 1 Axes>"
      ]
     },
     "metadata": {
      "needs_background": "light"
     },
     "output_type": "display_data"
    }
   ],
   "source": [
    "# Vemos los histogramas de la serie descompuesta\n",
    "#dummy = plt.hist(result.resid, bins=20)\n",
    "dummy = plt.hist(result.resid[result.resid>-10**10], bins=10)"
   ]
  },
  {
   "cell_type": "markdown",
   "metadata": {},
   "source": [
    "## Dividir entre Train y Test.\n",
    "Train a su vez se dividiran en subtrain y subvalidation ya que utilizamos Cross Validation\n",
    "Test nos servirá para hacer una simulación final de que estamos haciendo bien las predicciones\n",
    "La métrica que se minimiza del error es la correspondiente a Cross Validation. Posteriormente podemos compararla con la métrica del Test, deberían ser parecidas"
   ]
  },
  {
   "cell_type": "code",
   "execution_count": 7,
   "metadata": {
    "scrolled": true
   },
   "outputs": [
    {
     "data": {
      "image/png": "[encoded data removed]",
      "text/plain": [
       "<Figure size 432x288 with 1 Axes>"
      ]
     },
     "metadata": {
      "needs_background": "light"
     },
     "output_type": "display_data"
    }
   ],
   "source": [
    "from sklearn.model_selection import train_test_split\n",
    "import matplotlib.pyplot as plt\n",
    "import numpy\n",
    "X_train, X_test, Y_train, Y_test = train_test_split(ts, ts, test_size=0.26, shuffle=False)\n",
    "\n",
    "# De momento trabajamos sin variables regresoras así que vamos a trabajar unicamente con y_train y y_test\n",
    "plt.plot(Y_train)\n",
    "plt.plot(Y_train[-1::].append(Y_test))\n",
    "plt.show()"
   ]
  },
  {
   "cell_type": "markdown",
   "metadata": {},
   "source": [
    "## Entrenar el modelo con los parametros obtenidos en CV\n",
    "Se entrena el modelo con los parametors optimizados de CV y se hacen predicciones"
   ]
  },
  {
   "cell_type": "code",
   "execution_count": 8,
   "metadata": {
    "scrolled": true
   },
   "outputs": [
    {
     "name": "stdout",
     "output_type": "stream",
     "text": [
      "52\n"
     ]
    },
    {
     "name": "stderr",
     "output_type": "stream",
     "text": [
      "/usr/local/lib/python3.7/dist-packages/statsmodels/tsa/base/tsa_model.py:165: ValueWarning: No frequency information was provided, so inferred frequency W-SUN will be used.\n",
      "  % freq, ValueWarning)\n"
     ]
    },
    {
     "name": "stdout",
     "output_type": "stream",
     "text": [
      "2017-08-06    475.886042\n",
      "2017-08-13    512.292362\n",
      "2017-08-20    608.960367\n",
      "Freq: W-SUN, dtype: float64\n",
      "51\n"
     ]
    },
    {
     "name": "stderr",
     "output_type": "stream",
     "text": [
      "/usr/local/lib/python3.7/dist-packages/statsmodels/tsa/base/tsa_model.py:165: ValueWarning: No frequency information was provided, so inferred frequency W-SUN will be used.\n",
      "  % freq, ValueWarning)\n"
     ]
    },
    {
     "name": "stdout",
     "output_type": "stream",
     "text": [
      "2017-08-13    436.749667\n",
      "2017-08-20    538.865933\n",
      "2017-08-27    650.567969\n",
      "Freq: W-SUN, dtype: float64\n",
      "50\n"
     ]
    },
    {
     "name": "stderr",
     "output_type": "stream",
     "text": [
      "/usr/local/lib/python3.7/dist-packages/statsmodels/tsa/base/tsa_model.py:165: ValueWarning: No frequency information was provided, so inferred frequency W-SUN will be used.\n",
      "  % freq, ValueWarning)\n"
     ]
    },
    {
     "name": "stdout",
     "output_type": "stream",
     "text": [
      "2017-08-20    531.918585\n",
      "2017-08-27    644.144663\n",
      "2017-09-03    816.910940\n",
      "Freq: W-SUN, dtype: float64\n",
      "49\n"
     ]
    },
    {
     "name": "stderr",
     "output_type": "stream",
     "text": [
      "/usr/local/lib/python3.7/dist-packages/statsmodels/tsa/base/tsa_model.py:165: ValueWarning: No frequency information was provided, so inferred frequency W-SUN will be used.\n",
      "  % freq, ValueWarning)\n"
     ]
    },
    {
     "name": "stdout",
     "output_type": "stream",
     "text": [
      "2017-08-27     524.352452\n",
      "2017-09-03     706.222654\n",
      "2017-09-10    1238.063818\n",
      "Freq: W-SUN, dtype: float64\n",
      "48\n"
     ]
    },
    {
     "name": "stderr",
     "output_type": "stream",
     "text": [
      "/usr/local/lib/python3.7/dist-packages/statsmodels/tsa/base/tsa_model.py:165: ValueWarning: No frequency information was provided, so inferred frequency W-SUN will be used.\n",
      "  % freq, ValueWarning)\n"
     ]
    },
    {
     "name": "stdout",
     "output_type": "stream",
     "text": [
      "2017-09-03     740.291177\n",
      "2017-09-10    1269.503536\n",
      "2017-09-17    1562.889008\n",
      "Freq: W-SUN, dtype: float64\n",
      "47\n"
     ]
    },
    {
     "name": "stderr",
     "output_type": "stream",
     "text": [
      "/usr/local/lib/python3.7/dist-packages/statsmodels/tsa/base/tsa_model.py:165: ValueWarning: No frequency information was provided, so inferred frequency W-SUN will be used.\n",
      "  % freq, ValueWarning)\n"
     ]
    },
    {
     "name": "stdout",
     "output_type": "stream",
     "text": [
      "2017-09-10    1121.617319\n",
      "2017-09-17    1426.218180\n",
      "2017-09-24    1734.971458\n",
      "Freq: W-SUN, dtype: float64\n",
      "46\n"
     ]
    },
    {
     "name": "stderr",
     "output_type": "stream",
     "text": [
      "/usr/local/lib/python3.7/dist-packages/statsmodels/tsa/base/tsa_model.py:165: ValueWarning: No frequency information was provided, so inferred frequency W-SUN will be used.\n",
      "  % freq, ValueWarning)\n"
     ]
    },
    {
     "name": "stdout",
     "output_type": "stream",
     "text": [
      "2017-09-17    1336.046908\n",
      "2017-09-24    1651.629550\n",
      "2017-10-01    2250.318585\n",
      "Freq: W-SUN, dtype: float64\n",
      "45\n"
     ]
    },
    {
     "name": "stderr",
     "output_type": "stream",
     "text": [
      "/usr/local/lib/python3.7/dist-packages/statsmodels/tsa/base/tsa_model.py:165: ValueWarning: No frequency information was provided, so inferred frequency W-SUN will be used.\n",
      "  % freq, ValueWarning)\n"
     ]
    },
    {
     "name": "stdout",
     "output_type": "stream",
     "text": [
      "2017-09-24    1767.486344\n",
      "2017-10-01    2357.321904\n",
      "2017-10-08    2957.735971\n",
      "Freq: W-SUN, dtype: float64\n",
      "44\n"
     ]
    },
    {
     "name": "stderr",
     "output_type": "stream",
     "text": [
      "/usr/local/lib/python3.7/dist-packages/statsmodels/tsa/base/tsa_model.py:165: ValueWarning: No frequency information was provided, so inferred frequency W-SUN will be used.\n",
      "  % freq, ValueWarning)\n"
     ]
    },
    {
     "name": "stdout",
     "output_type": "stream",
     "text": [
      "2017-10-01    2630.134933\n",
      "2017-10-08    3208.907037\n",
      "2017-10-15    4402.767589\n",
      "Freq: W-SUN, dtype: float64\n",
      "43\n"
     ]
    },
    {
     "name": "stderr",
     "output_type": "stream",
     "text": [
      "/usr/local/lib/python3.7/dist-packages/statsmodels/tsa/base/tsa_model.py:165: ValueWarning: No frequency information was provided, so inferred frequency W-SUN will be used.\n",
      "  % freq, ValueWarning)\n"
     ]
    },
    {
     "name": "stdout",
     "output_type": "stream",
     "text": [
      "2017-10-08    3299.913599\n",
      "2017-10-15    4486.259297\n",
      "2017-10-22    5094.512624\n",
      "Freq: W-SUN, dtype: float64\n",
      "42\n"
     ]
    },
    {
     "name": "stderr",
     "output_type": "stream",
     "text": [
      "/usr/local/lib/python3.7/dist-packages/statsmodels/tsa/base/tsa_model.py:165: ValueWarning: No frequency information was provided, so inferred frequency W-SUN will be used.\n",
      "  % freq, ValueWarning)\n"
     ]
    },
    {
     "name": "stdout",
     "output_type": "stream",
     "text": [
      "2017-10-15    4713.145161\n",
      "2017-10-22    5302.096357\n",
      "2017-10-29    6960.588768\n",
      "Freq: W-SUN, dtype: float64\n",
      "41\n"
     ]
    },
    {
     "name": "stderr",
     "output_type": "stream",
     "text": [
      "/usr/local/lib/python3.7/dist-packages/statsmodels/tsa/base/tsa_model.py:165: ValueWarning: No frequency information was provided, so inferred frequency W-SUN will be used.\n",
      "  % freq, ValueWarning)\n"
     ]
    },
    {
     "name": "stdout",
     "output_type": "stream",
     "text": [
      "2017-10-22    5184.078554\n",
      "2017-10-29    6852.680992\n",
      "2017-11-05    6243.985625\n",
      "Freq: W-SUN, dtype: float64\n",
      "40\n"
     ]
    },
    {
     "name": "stderr",
     "output_type": "stream",
     "text": [
      "/usr/local/lib/python3.7/dist-packages/statsmodels/tsa/base/tsa_model.py:165: ValueWarning: No frequency information was provided, so inferred frequency W-SUN will be used.\n",
      "  % freq, ValueWarning)\n"
     ]
    },
    {
     "name": "stdout",
     "output_type": "stream",
     "text": [
      "2017-10-29    6312.377424\n",
      "2017-11-05    5750.164869\n",
      "2017-11-12    5796.024797\n",
      "Freq: W-SUN, dtype: float64\n",
      "39\n"
     ]
    },
    {
     "name": "stderr",
     "output_type": "stream",
     "text": [
      "/usr/local/lib/python3.7/dist-packages/statsmodels/tsa/base/tsa_model.py:165: ValueWarning: No frequency information was provided, so inferred frequency W-SUN will be used.\n",
      "  % freq, ValueWarning)\n"
     ]
    },
    {
     "name": "stdout",
     "output_type": "stream",
     "text": [
      "2017-11-05    5359.711861\n",
      "2017-11-12    5440.283515\n",
      "2017-11-19    4475.563948\n",
      "Freq: W-SUN, dtype: float64\n",
      "38\n"
     ]
    },
    {
     "name": "stderr",
     "output_type": "stream",
     "text": [
      "/usr/local/lib/python3.7/dist-packages/statsmodels/tsa/base/tsa_model.py:165: ValueWarning: No frequency information was provided, so inferred frequency W-SUN will be used.\n",
      "  % freq, ValueWarning)\n"
     ]
    },
    {
     "name": "stdout",
     "output_type": "stream",
     "text": [
      "2017-11-12    6289.938762\n",
      "2017-11-19    5250.826882\n",
      "2017-11-26    5968.162550\n",
      "Freq: W-SUN, dtype: float64\n",
      "37\n"
     ]
    },
    {
     "name": "stderr",
     "output_type": "stream",
     "text": [
      "/usr/local/lib/python3.7/dist-packages/statsmodels/tsa/base/tsa_model.py:165: ValueWarning: No frequency information was provided, so inferred frequency W-SUN will be used.\n",
      "  % freq, ValueWarning)\n"
     ]
    },
    {
     "name": "stdout",
     "output_type": "stream",
     "text": [
      "2017-11-19    4952.691761\n",
      "2017-11-26    5695.628691\n",
      "2017-12-03    4787.487351\n",
      "Freq: W-SUN, dtype: float64\n",
      "36\n"
     ]
    },
    {
     "name": "stderr",
     "output_type": "stream",
     "text": [
      "/usr/local/lib/python3.7/dist-packages/statsmodels/tsa/base/tsa_model.py:165: ValueWarning: No frequency information was provided, so inferred frequency W-SUN will be used.\n",
      "  % freq, ValueWarning)\n"
     ]
    },
    {
     "name": "stdout",
     "output_type": "stream",
     "text": [
      "2017-11-26    6555.790089\n",
      "2017-12-03    5573.577095\n",
      "2017-12-10    5623.696291\n",
      "Freq: W-SUN, dtype: float64\n",
      "35\n"
     ]
    },
    {
     "name": "stderr",
     "output_type": "stream",
     "text": [
      "/usr/local/lib/python3.7/dist-packages/statsmodels/tsa/base/tsa_model.py:165: ValueWarning: No frequency information was provided, so inferred frequency W-SUN will be used.\n",
      "  % freq, ValueWarning)\n"
     ]
    },
    {
     "name": "stdout",
     "output_type": "stream",
     "text": [
      "2017-12-03    5373.390302\n",
      "2017-12-10    5441.411475\n",
      "2017-12-17    4571.705195\n",
      "Freq: W-SUN, dtype: float64\n",
      "34\n"
     ]
    },
    {
     "name": "stderr",
     "output_type": "stream",
     "text": [
      "/usr/local/lib/python3.7/dist-packages/statsmodels/tsa/base/tsa_model.py:165: ValueWarning: No frequency information was provided, so inferred frequency W-SUN will be used.\n",
      "  % freq, ValueWarning)\n"
     ]
    },
    {
     "name": "stdout",
     "output_type": "stream",
     "text": [
      "2017-12-10    5306.204799\n",
      "2017-12-17    4447.997102\n",
      "2017-12-24    4348.840621\n",
      "Freq: W-SUN, dtype: float64\n",
      "33\n"
     ]
    },
    {
     "name": "stderr",
     "output_type": "stream",
     "text": [
      "/usr/local/lib/python3.7/dist-packages/statsmodels/tsa/base/tsa_model.py:165: ValueWarning: No frequency information was provided, so inferred frequency W-SUN will be used.\n",
      "  % freq, ValueWarning)\n"
     ]
    },
    {
     "name": "stdout",
     "output_type": "stream",
     "text": [
      "2017-12-17    3954.096041\n",
      "2017-12-24    3898.119191\n",
      "2017-12-31    3670.177664\n",
      "Freq: W-SUN, dtype: float64\n",
      "32\n"
     ]
    },
    {
     "name": "stderr",
     "output_type": "stream",
     "text": [
      "/usr/local/lib/python3.7/dist-packages/statsmodels/tsa/base/tsa_model.py:165: ValueWarning: No frequency information was provided, so inferred frequency W-SUN will be used.\n",
      "  % freq, ValueWarning)\n"
     ]
    },
    {
     "name": "stdout",
     "output_type": "stream",
     "text": [
      "2017-12-24    4555.167615\n",
      "2017-12-31    4270.524199\n",
      "2018-01-07    5475.512448\n",
      "Freq: W-SUN, dtype: float64\n",
      "31\n"
     ]
    },
    {
     "name": "stderr",
     "output_type": "stream",
     "text": [
      "/usr/local/lib/python3.7/dist-packages/statsmodels/tsa/base/tsa_model.py:165: ValueWarning: No frequency information was provided, so inferred frequency W-SUN will be used.\n",
      "  % freq, ValueWarning)\n"
     ]
    },
    {
     "name": "stdout",
     "output_type": "stream",
     "text": [
      "2017-12-31    4225.643905\n",
      "2018-01-07    5434.519226\n",
      "2018-01-14    5171.259719\n",
      "Freq: W-SUN, dtype: float64\n",
      "30\n"
     ]
    },
    {
     "name": "stderr",
     "output_type": "stream",
     "text": [
      "/usr/local/lib/python3.7/dist-packages/statsmodels/tsa/base/tsa_model.py:165: ValueWarning: No frequency information was provided, so inferred frequency W-SUN will be used.\n",
      "  % freq, ValueWarning)\n"
     ]
    },
    {
     "name": "stdout",
     "output_type": "stream",
     "text": [
      "2018-01-07    6143.886749\n",
      "2018-01-14    5821.946928\n",
      "2018-01-21    6215.800383\n",
      "Freq: W-SUN, dtype: float64\n",
      "29\n"
     ]
    },
    {
     "name": "stderr",
     "output_type": "stream",
     "text": [
      "/usr/local/lib/python3.7/dist-packages/statsmodels/tsa/base/tsa_model.py:165: ValueWarning: No frequency information was provided, so inferred frequency W-SUN will be used.\n",
      "  % freq, ValueWarning)\n"
     ]
    },
    {
     "name": "stdout",
     "output_type": "stream",
     "text": [
      "2018-01-14    4825.183409\n",
      "2018-01-21    5301.671988\n",
      "2018-01-28    4584.530034\n",
      "Freq: W-SUN, dtype: float64\n",
      "28\n"
     ]
    },
    {
     "name": "stderr",
     "output_type": "stream",
     "text": [
      "/usr/local/lib/python3.7/dist-packages/statsmodels/tsa/base/tsa_model.py:165: ValueWarning: No frequency information was provided, so inferred frequency W-SUN will be used.\n",
      "  % freq, ValueWarning)\n"
     ]
    },
    {
     "name": "stdout",
     "output_type": "stream",
     "text": [
      "2018-01-21    5637.370289\n",
      "2018-01-28    4893.848295\n",
      "2018-02-04    5292.952094\n",
      "Freq: W-SUN, dtype: float64\n",
      "27\n"
     ]
    },
    {
     "name": "stderr",
     "output_type": "stream",
     "text": [
      "/usr/local/lib/python3.7/dist-packages/statsmodels/tsa/base/tsa_model.py:165: ValueWarning: No frequency information was provided, so inferred frequency W-SUN will be used.\n",
      "  % freq, ValueWarning)\n"
     ]
    },
    {
     "name": "stdout",
     "output_type": "stream",
     "text": [
      "2018-01-28    4700.111049\n",
      "2018-02-04    5114.083624\n",
      "2018-02-11    6401.162457\n",
      "Freq: W-SUN, dtype: float64\n",
      "26\n"
     ]
    },
    {
     "name": "stderr",
     "output_type": "stream",
     "text": [
      "/usr/local/lib/python3.7/dist-packages/statsmodels/tsa/base/tsa_model.py:165: ValueWarning: No frequency information was provided, so inferred frequency W-SUN will be used.\n",
      "  % freq, ValueWarning)\n"
     ]
    },
    {
     "name": "stdout",
     "output_type": "stream",
     "text": [
      "2018-02-04    5857.675712\n",
      "2018-02-11    7089.256154\n",
      "2018-02-18    7242.107532\n",
      "Freq: W-SUN, dtype: float64\n",
      "25\n"
     ]
    },
    {
     "name": "stderr",
     "output_type": "stream",
     "text": [
      "/usr/local/lib/python3.7/dist-packages/statsmodels/tsa/base/tsa_model.py:165: ValueWarning: No frequency information was provided, so inferred frequency W-SUN will be used.\n",
      "  % freq, ValueWarning)\n"
     ]
    },
    {
     "name": "stdout",
     "output_type": "stream",
     "text": [
      "2018-02-11    6538.262423\n",
      "2018-02-18    6732.491573\n",
      "2018-02-25    7062.085574\n",
      "Freq: W-SUN, dtype: float64\n",
      "24\n"
     ]
    },
    {
     "name": "stderr",
     "output_type": "stream",
     "text": [
      "/usr/local/lib/python3.7/dist-packages/statsmodels/tsa/base/tsa_model.py:165: ValueWarning: No frequency information was provided, so inferred frequency W-SUN will be used.\n",
      "  % freq, ValueWarning)\n"
     ]
    },
    {
     "name": "stdout",
     "output_type": "stream",
     "text": [
      "2018-02-18    5827.912974\n",
      "2018-02-25    6229.383849\n",
      "2018-03-04    6204.173459\n",
      "Freq: W-SUN, dtype: float64\n",
      "23\n"
     ]
    },
    {
     "name": "stderr",
     "output_type": "stream",
     "text": [
      "/usr/local/lib/python3.7/dist-packages/statsmodels/tsa/base/tsa_model.py:165: ValueWarning: No frequency information was provided, so inferred frequency W-SUN will be used.\n",
      "  % freq, ValueWarning)\n"
     ]
    },
    {
     "name": "stdout",
     "output_type": "stream",
     "text": [
      "2018-02-25    6446.360539\n",
      "2018-03-04    6402.494906\n",
      "2018-03-11    6601.436121\n",
      "Freq: W-SUN, dtype: float64\n",
      "22\n"
     ]
    },
    {
     "name": "stderr",
     "output_type": "stream",
     "text": [
      "/usr/local/lib/python3.7/dist-packages/statsmodels/tsa/base/tsa_model.py:165: ValueWarning: No frequency information was provided, so inferred frequency W-SUN will be used.\n",
      "  % freq, ValueWarning)\n"
     ]
    },
    {
     "name": "stdout",
     "output_type": "stream",
     "text": [
      "2018-03-04    5917.526644\n",
      "2018-03-11    6152.166013\n",
      "2018-03-18    7295.573253\n",
      "Freq: W-SUN, dtype: float64\n",
      "21\n"
     ]
    },
    {
     "name": "stderr",
     "output_type": "stream",
     "text": [
      "/usr/local/lib/python3.7/dist-packages/statsmodels/tsa/base/tsa_model.py:165: ValueWarning: No frequency information was provided, so inferred frequency W-SUN will be used.\n",
      "  % freq, ValueWarning)\n"
     ]
    },
    {
     "name": "stdout",
     "output_type": "stream",
     "text": [
      "2018-03-11    6416.273598\n",
      "2018-03-18    7540.021930\n",
      "2018-03-25    6923.513947\n",
      "Freq: W-SUN, dtype: float64\n",
      "20\n"
     ]
    },
    {
     "name": "stderr",
     "output_type": "stream",
     "text": [
      "/usr/local/lib/python3.7/dist-packages/statsmodels/tsa/base/tsa_model.py:165: ValueWarning: No frequency information was provided, so inferred frequency W-SUN will be used.\n",
      "  % freq, ValueWarning)\n"
     ]
    },
    {
     "name": "stdout",
     "output_type": "stream",
     "text": [
      "2018-03-18    7149.956682\n",
      "2018-03-25    6559.508119\n",
      "2018-04-01    7237.687778\n",
      "Freq: W-SUN, dtype: float64\n",
      "19\n"
     ]
    },
    {
     "name": "stderr",
     "output_type": "stream",
     "text": [
      "/usr/local/lib/python3.7/dist-packages/statsmodels/tsa/base/tsa_model.py:165: ValueWarning: No frequency information was provided, so inferred frequency W-SUN will be used.\n",
      "  % freq, ValueWarning)\n"
     ]
    },
    {
     "name": "stdout",
     "output_type": "stream",
     "text": [
      "2018-03-25    5515.310856\n",
      "2018-04-01    6258.308254\n",
      "2018-04-08    6040.111034\n",
      "Freq: W-SUN, dtype: float64\n",
      "18\n"
     ]
    },
    {
     "name": "stderr",
     "output_type": "stream",
     "text": [
      "/usr/local/lib/python3.7/dist-packages/statsmodels/tsa/base/tsa_model.py:165: ValueWarning: No frequency information was provided, so inferred frequency W-SUN will be used.\n",
      "  % freq, ValueWarning)\n"
     ]
    },
    {
     "name": "stdout",
     "output_type": "stream",
     "text": [
      "2018-04-01    6275.935204\n",
      "2018-04-08    6056.583388\n",
      "2018-04-15    5540.430055\n",
      "Freq: W-SUN, dtype: float64\n",
      "17\n"
     ]
    },
    {
     "name": "stderr",
     "output_type": "stream",
     "text": [
      "/usr/local/lib/python3.7/dist-packages/statsmodels/tsa/base/tsa_model.py:165: ValueWarning: No frequency information was provided, so inferred frequency W-SUN will be used.\n",
      "  % freq, ValueWarning)\n"
     ]
    },
    {
     "name": "stdout",
     "output_type": "stream",
     "text": [
      "2018-04-08    6215.100125\n",
      "2018-04-15    5691.553239\n",
      "2018-04-22    5822.018678\n",
      "Freq: W-SUN, dtype: float64\n",
      "16\n"
     ]
    },
    {
     "name": "stderr",
     "output_type": "stream",
     "text": [
      "/usr/local/lib/python3.7/dist-packages/statsmodels/tsa/base/tsa_model.py:165: ValueWarning: No frequency information was provided, so inferred frequency W-SUN will be used.\n",
      "  % freq, ValueWarning)\n"
     ]
    },
    {
     "name": "stdout",
     "output_type": "stream",
     "text": [
      "2018-04-15    6246.968531\n",
      "2018-04-22    6346.555691\n",
      "2018-04-29    5162.431281\n",
      "Freq: W-SUN, dtype: float64\n",
      "15\n"
     ]
    },
    {
     "name": "stderr",
     "output_type": "stream",
     "text": [
      "/usr/local/lib/python3.7/dist-packages/statsmodels/tsa/base/tsa_model.py:165: ValueWarning: No frequency information was provided, so inferred frequency W-SUN will be used.\n",
      "  % freq, ValueWarning)\n"
     ]
    },
    {
     "name": "stdout",
     "output_type": "stream",
     "text": [
      "2018-04-22    6010.565734\n",
      "2018-04-29    4846.464008\n",
      "2018-05-06    4392.872196\n",
      "Freq: W-SUN, dtype: float64\n",
      "14\n"
     ]
    },
    {
     "name": "stderr",
     "output_type": "stream",
     "text": [
      "/usr/local/lib/python3.7/dist-packages/statsmodels/tsa/base/tsa_model.py:165: ValueWarning: No frequency information was provided, so inferred frequency W-SUN will be used.\n",
      "  % freq, ValueWarning)\n"
     ]
    },
    {
     "name": "stdout",
     "output_type": "stream",
     "text": [
      "2018-04-29    5376.523336\n",
      "2018-05-06    4886.316610\n",
      "2018-05-13    4764.219637\n",
      "Freq: W-SUN, dtype: float64\n",
      "13\n"
     ]
    },
    {
     "name": "stderr",
     "output_type": "stream",
     "text": [
      "/usr/local/lib/python3.7/dist-packages/statsmodels/tsa/base/tsa_model.py:165: ValueWarning: No frequency information was provided, so inferred frequency W-SUN will be used.\n",
      "  % freq, ValueWarning)\n"
     ]
    },
    {
     "name": "stdout",
     "output_type": "stream",
     "text": [
      "2018-05-06    5002.428582\n",
      "2018-05-13    4871.496868\n",
      "2018-05-20    5022.453927\n",
      "Freq: W-SUN, dtype: float64\n",
      "12\n"
     ]
    },
    {
     "name": "stderr",
     "output_type": "stream",
     "text": [
      "/usr/local/lib/python3.7/dist-packages/statsmodels/tsa/base/tsa_model.py:165: ValueWarning: No frequency information was provided, so inferred frequency W-SUN will be used.\n",
      "  % freq, ValueWarning)\n"
     ]
    },
    {
     "name": "stdout",
     "output_type": "stream",
     "text": [
      "2018-05-13    5385.086871\n",
      "2018-05-20    5493.321500\n",
      "2018-05-27    5358.158480\n",
      "Freq: W-SUN, dtype: float64\n",
      "11\n"
     ]
    },
    {
     "name": "stderr",
     "output_type": "stream",
     "text": [
      "/usr/local/lib/python3.7/dist-packages/statsmodels/tsa/base/tsa_model.py:165: ValueWarning: No frequency information was provided, so inferred frequency W-SUN will be used.\n",
      "  % freq, ValueWarning)\n"
     ]
    },
    {
     "name": "stdout",
     "output_type": "stream",
     "text": [
      "2018-05-20    6100.608346\n",
      "2018-05-27    5910.317443\n",
      "2018-06-03    5083.768657\n",
      "Freq: W-SUN, dtype: float64\n",
      "10\n"
     ]
    },
    {
     "name": "stderr",
     "output_type": "stream",
     "text": [
      "/usr/local/lib/python3.7/dist-packages/statsmodels/tsa/base/tsa_model.py:165: ValueWarning: No frequency information was provided, so inferred frequency W-SUN will be used.\n",
      "  % freq, ValueWarning)\n"
     ]
    },
    {
     "name": "stdout",
     "output_type": "stream",
     "text": [
      "2018-05-27    5851.715535\n",
      "2018-06-03    5030.505393\n",
      "2018-06-10    4011.753376\n",
      "Freq: W-SUN, dtype: float64\n",
      "9\n"
     ]
    },
    {
     "name": "stderr",
     "output_type": "stream",
     "text": [
      "/usr/local/lib/python3.7/dist-packages/statsmodels/tsa/base/tsa_model.py:165: ValueWarning: No frequency information was provided, so inferred frequency W-SUN will be used.\n",
      "  % freq, ValueWarning)\n"
     ]
    },
    {
     "name": "stdout",
     "output_type": "stream",
     "text": [
      "2018-06-03    4884.223529\n",
      "2018-06-10    3878.093932\n",
      "2018-06-17    3000.386642\n",
      "Freq: W-SUN, dtype: float64\n",
      "8\n"
     ]
    },
    {
     "name": "stderr",
     "output_type": "stream",
     "text": [
      "/usr/local/lib/python3.7/dist-packages/statsmodels/tsa/base/tsa_model.py:165: ValueWarning: No frequency information was provided, so inferred frequency W-SUN will be used.\n",
      "  % freq, ValueWarning)\n"
     ]
    },
    {
     "name": "stdout",
     "output_type": "stream",
     "text": [
      "2018-06-10    3832.522596\n",
      "2018-06-17    2958.796240\n",
      "2018-06-24    2292.857697\n",
      "Freq: W-SUN, dtype: float64\n",
      "7\n"
     ]
    },
    {
     "name": "stderr",
     "output_type": "stream",
     "text": [
      "/usr/local/lib/python3.7/dist-packages/statsmodels/tsa/base/tsa_model.py:165: ValueWarning: No frequency information was provided, so inferred frequency W-SUN will be used.\n",
      "  % freq, ValueWarning)\n"
     ]
    },
    {
     "name": "stdout",
     "output_type": "stream",
     "text": [
      "2018-06-17    2658.394831\n",
      "2018-06-24    2019.585993\n",
      "2018-07-01    1441.315933\n",
      "Freq: W-SUN, dtype: float64\n",
      "6\n"
     ]
    },
    {
     "name": "stderr",
     "output_type": "stream",
     "text": [
      "/usr/local/lib/python3.7/dist-packages/statsmodels/tsa/base/tsa_model.py:165: ValueWarning: No frequency information was provided, so inferred frequency W-SUN will be used.\n",
      "  % freq, ValueWarning)\n"
     ]
    },
    {
     "name": "stdout",
     "output_type": "stream",
     "text": [
      "2018-06-24    1733.726931\n",
      "2018-07-01    1182.327590\n",
      "2018-07-08     915.186221\n",
      "Freq: W-SUN, dtype: float64\n",
      "5\n"
     ]
    },
    {
     "name": "stderr",
     "output_type": "stream",
     "text": [
      "/usr/local/lib/python3.7/dist-packages/statsmodels/tsa/base/tsa_model.py:165: ValueWarning: No frequency information was provided, so inferred frequency W-SUN will be used.\n",
      "  % freq, ValueWarning)\n"
     ]
    },
    {
     "name": "stdout",
     "output_type": "stream",
     "text": [
      "2018-07-01    1331.605694\n",
      "2018-07-08    1050.352705\n",
      "2018-07-15    1170.866278\n",
      "Freq: W-SUN, dtype: float64\n",
      "4\n"
     ]
    },
    {
     "name": "stderr",
     "output_type": "stream",
     "text": [
      "/usr/local/lib/python3.7/dist-packages/statsmodels/tsa/base/tsa_model.py:165: ValueWarning: No frequency information was provided, so inferred frequency W-SUN will be used.\n",
      "  % freq, ValueWarning)\n"
     ]
    },
    {
     "name": "stdout",
     "output_type": "stream",
     "text": [
      "2018-07-08    1374.259599\n",
      "2018-07-15    1464.237225\n",
      "2018-07-22    1539.197936\n",
      "Freq: W-SUN, dtype: float64\n",
      "3\n"
     ]
    },
    {
     "name": "stderr",
     "output_type": "stream",
     "text": [
      "/usr/local/lib/python3.7/dist-packages/statsmodels/tsa/base/tsa_model.py:165: ValueWarning: No frequency information was provided, so inferred frequency W-SUN will be used.\n",
      "  % freq, ValueWarning)\n"
     ]
    },
    {
     "name": "stdout",
     "output_type": "stream",
     "text": [
      "2018-07-15    1341.474109\n",
      "2018-07-22    1428.076310\n",
      "2018-07-29    1216.201956\n",
      "Freq: W-SUN, dtype: float64\n",
      "2\n"
     ]
    },
    {
     "name": "stderr",
     "output_type": "stream",
     "text": [
      "/usr/local/lib/python3.7/dist-packages/statsmodels/tsa/base/tsa_model.py:165: ValueWarning: No frequency information was provided, so inferred frequency W-SUN will be used.\n",
      "  % freq, ValueWarning)\n"
     ]
    },
    {
     "name": "stdout",
     "output_type": "stream",
     "text": [
      "2018-07-22    1083.035578\n",
      "2018-07-29     903.827299\n",
      "2018-08-05     823.434832\n",
      "Freq: W-SUN, dtype: float64\n",
      "1\n"
     ]
    },
    {
     "name": "stderr",
     "output_type": "stream",
     "text": [
      "/usr/local/lib/python3.7/dist-packages/statsmodels/tsa/base/tsa_model.py:165: ValueWarning: No frequency information was provided, so inferred frequency W-SUN will be used.\n",
      "  % freq, ValueWarning)\n"
     ]
    },
    {
     "name": "stdout",
     "output_type": "stream",
     "text": [
      "2018-07-29    566.869509\n",
      "2018-08-05    519.002088\n",
      "2018-08-12    394.788570\n",
      "Freq: W-SUN, dtype: float64\n"
     ]
    }
   ],
   "source": [
    "from sklearn.model_selection import TimeSeriesSplit\n",
    "import statsmodels.api as sm\n",
    "\n",
    "# Introducir aqui los parametros ya tuneados\n",
    "order = (1, 0, 1)\n",
    "seasonal_order = (0, 1, 0, 53)\n",
    "enforce_stationarity = True\n",
    "enforce_invertibility = True\n",
    "\n",
    "# Prediccion a h semanas\n",
    "h = 3\n",
    "\n",
    "# Ventana movil de train\n",
    "Rollingts = Y_train\n",
    "\n",
    "\n",
    "yhat = []\n",
    "yhatvalue = []\n",
    "\n",
    "# Bucle de test con rolling window\n",
    "for index in range(len(Y_test[0::])+1 - h):\n",
    "    print(len(Y_test[0::])+1-h - index)\n",
    "    modelo_test = sm.tsa.statespace.SARIMAX(Rollingts, order = order, seasonal_order = seasonal_order,\n",
    "                                            trend='t', enforce_stationarity=enforce_stationarity,\n",
    "                                            enforce_invertibility=enforce_invertibility)       \n",
    "    model_fit = modelo_test.fit()\n",
    "    valforecast = model_fit.forecast(h)\n",
    "    print(valforecast)\n",
    "\n",
    "    # Guardamos los datos de prediccion\n",
    "    if len(yhat) == 0:\n",
    "        yhat = valforecast[-1::]\n",
    "    else:\n",
    "        yhat = yhat.append(valforecast[-1::])\n",
    "\n",
    "    Rollingts = Rollingts.append(Y_test[index:index+1])\n",
    "\n",
    "\n",
    "#plt.plot(Y_test[h-1:len(yhat)])\n",
    "#plt.plot(yhat)\n",
    "#plt.show()\n"
   ]
  },
  {
   "cell_type": "code",
   "execution_count": 9,
   "metadata": {},
   "outputs": [
    {
     "data": {
      "image/png": "[encoded data removed]",
      "text/plain": [
       "<Figure size 432x288 with 1 Axes>"
      ]
     },
     "metadata": {
      "needs_background": "light"
     },
     "output_type": "display_data"
    }
   ],
   "source": [
    "plt.plot(Y_test[h-1:len(yhat)])\n",
    "plt.plot(yhat)\n",
    "plt.show()"
   ]
  },
  {
   "cell_type": "code",
   "execution_count": 10,
   "metadata": {
    "scrolled": true
   },
   "outputs": [
    {
     "data": {
      "image/png": "[encoded data removed]",
      "text/plain": [
       "<Figure size 864x576 with 1 Axes>"
      ]
     },
     "metadata": {
      "needs_background": "light"
     },
     "output_type": "display_data"
    }
   ],
   "source": [
    "## VARIABLES\n",
    "# FIGURE TRAIN TEST\n",
    "ftraintest, axtraintest = plt.subplots(figsize = [12,8]) # no visible frame\n",
    "df_modelo = Y_test[h-1:]\n",
    "axtraintest.plot(Y_test[h-1:len(yhat)], 'b', label= \"real\",lw=6)\n",
    "axtraintest.plot(yhat,'g',label= \"prediction\", lw=5)\n",
    "axtraintest.legend()\n",
    "ftraintest.savefig(\"results/ARIMA/h\" + str(h)+ \"/Hyperparameter_ARIMA_h\" + str(h) +\n",
    "                    \"_file:\" + filename + \"_\" + timestr + \"_PREDICTIONfig.pdf\")\n",
    "\n",
    "###########################################################\n",
    "#SAVE SERIES #############################################\n",
    "###########################################################\n",
    "df_modelo = pd.merge(pd.DataFrame(Y_test[h-1:]), pd.DataFrame(yhat), left_index=True, right_index=True)\n",
    "df_modelo.columns = [\"real\", \"forecast\"]\n",
    "df_modelo.to_csv(\"results/ARIMA/h\" + str(h) + \"/Hyperparameter_ARIMA_h\" + str(h) + \"_file:\" +\n",
    "                  filename + \"_\" +   timestr + \"PREDICCION.csv\")\n",
    "\n"
   ]
  },
  {
   "cell_type": "code",
   "execution_count": 17,
   "metadata": {},
   "outputs": [],
   "source": [
    "umbral = max(df_modelo[\"real\"])/10\n",
    "import numpy as np\n",
    "df_modelo_mod = df_modelo[df_modelo[\"real\"] > umbral]\n",
    "# Error medio quitando un extremo\n",
    "# Error medio cometido\n",
    "\n",
    "with open(\"results/ARIMA/h\" + str(h) + \"/Hyperparameter_ARIMA_h:\" + str(h) + \"_file:\" +\n",
    "          filename + \"_\" + timestr + \"ERRORS.csv\", 'w') as file:\n",
    "    print(\"Error medio cometido (quitando minimos): \" + str(round(np.mean(abs(df_modelo_mod[\"forecast\"] - df_modelo_mod[\"real\"])/df_modelo_mod[\"real\"]), 3)), file=file)\n",
    "    print(\"Error medio cometido: \" + str(round(np.mean(abs(df_modelo[\"forecast\"] - df_modelo[\"real\"])/df_modelo[\"real\"]), 3)), file=file)\n"
   ]
  },
  {
   "cell_type": "code",
   "execution_count": 18,
   "metadata": {},
   "outputs": [
    {
     "name": "stdout",
     "output_type": "stream",
     "text": [
      "Error medio cometido (quitando minimos): 0.168\n",
      "Error medio cometido: 0.271\n"
     ]
    }
   ],
   "source": [
    "print(\"Error medio cometido (quitando minimos): \" + str(round(np.mean(abs(df_modelo_mod[\"forecast\"] - df_modelo_mod[\"real\"])/df_modelo_mod[\"real\"]), 3)))\n",
    "print(\"Error medio cometido: \" + str(round(np.mean(abs(df_modelo[\"forecast\"] - df_modelo[\"real\"])/df_modelo[\"real\"]), 3)))\n"
   ]
  }
 ],
 "metadata": {
  "kernelspec": {
   "display_name": "Python 3",
   "language": "python",
   "name": "python3"
  },
  "language_info": {
   "codemirror_mode": {
    "name": "ipython",
    "version": 3
   },
   "file_extension": ".py",
   "mimetype": "text/x-python",
   "name": "python",
   "nbconvert_exporter": "python",
   "pygments_lexer": "ipython3",
   "version": "3.7.5rc1"
  }
 },
 "nbformat": 4,
 "nbformat_minor": 2
}
