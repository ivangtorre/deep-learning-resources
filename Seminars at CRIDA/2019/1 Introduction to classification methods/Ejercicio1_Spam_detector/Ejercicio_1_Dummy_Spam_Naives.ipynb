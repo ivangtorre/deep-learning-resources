{
 "cells": [
  {
   "cell_type": "markdown",
   "metadata": {},
   "source": [
    "## Detector de Spam simple\n",
    "Vamos a plantear un detector de Spam basado únicamente en un indicador. La palabra \"herencia\"\n"
   ]
  },
  {
   "cell_type": "code",
   "execution_count": null,
   "metadata": {},
   "outputs": [],
   "source": []
  },
  {
   "cell_type": "code",
   "execution_count": 2,
   "metadata": {},
   "outputs": [],
   "source": [
    "# De todos los mensajes de Spam, 1 de cada 10 contiene la palabra \"herencia\"\n",
    "P_W_S = 0.1\n",
    "\n",
    "# De entre todos los mails de la bandeja de entrada el 20% son spam:\n",
    "Pr_S = 0.2\n",
    "\n",
    "# La probabilidad de tener la palabra \"herencia\" en los correos buenos es 1 de cada 1000\n",
    "Pr_W_H = 0.001\n",
    "\n",
    "\n",
    "\n"
   ]
  },
  {
   "cell_type": "code",
   "execution_count": 3,
   "metadata": {},
   "outputs": [],
   "source": [
    "P_S_W = P_W_S*Pr_S/( P_W_S*Pr_S + Pr_W_H*0.8 )"
   ]
  },
  {
   "cell_type": "code",
   "execution_count": 4,
   "metadata": {},
   "outputs": [
    {
     "name": "stdout",
     "output_type": "stream",
     "text": [
      "0.9615384615384616\n"
     ]
    }
   ],
   "source": [
    "print(P_S_W)"
   ]
  }
 ],
 "metadata": {
  "kernelspec": {
   "display_name": "Python 3",
   "language": "python",
   "name": "python3"
  },
  "language_info": {
   "codemirror_mode": {
    "name": "ipython",
    "version": 3
   },
   "file_extension": ".py",
   "mimetype": "text/x-python",
   "name": "python",
   "nbconvert_exporter": "python",
   "pygments_lexer": "ipython3",
   "version": "3.7.5rc1"
  }
 },
 "nbformat": 4,
 "nbformat_minor": 2
}
