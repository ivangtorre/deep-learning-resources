{
 "cells": [
  {
   "cell_type": "markdown",
   "metadata": {},
   "source": [
    "## Regresion\n",
    "Uno de los métodos más simples que se tienen en Machine Learning serían las regresiones lineales. Aunque las regresiones lineales nos puedan sonar a estadística, lo cierto es que son un modelo explicativo entre la variable de entrada x y la variable de salida y. Obviamente x puede ser una matriz o multiples variables independientes."
   ]
  },
  {
   "cell_type": "code",
   "execution_count": 1,
   "metadata": {},
   "outputs": [],
   "source": [
    "import operator\n",
    "import numpy as np\n",
    "import matplotlib.pyplot as plt\n",
    "from sklearn.linear_model import LinearRegression\n",
    "from sklearn.metrics import mean_squared_error, r2_score\n",
    "from sklearn.preprocessing import PolynomialFeatures\n"
   ]
  },
  {
   "cell_type": "markdown",
   "metadata": {},
   "source": [
    "Construimos nuestros propios datos"
   ]
  },
  {
   "cell_type": "code",
   "execution_count": 17,
   "metadata": {},
   "outputs": [],
   "source": [
    "# Poner una semilla \n",
    "np.random.seed(1)\n",
    "\n",
    "x = np.linspace(1, 20, 30)\n",
    "# print(x)\n",
    "\n",
    "y = x**2\n",
    "# print(y)\n",
    "y = y + np.random.normal(0, 4, len(x))**2\n",
    "\n",
    "# # transforming the data to include another axis\n",
    "x = x[:, np.newaxis]\n",
    "y = y[:, np.newaxis]"
   ]
  },
  {
   "cell_type": "markdown",
   "metadata": {},
   "source": [
    "Representación de los datos"
   ]
  },
  {
   "cell_type": "code",
   "execution_count": 20,
   "metadata": {
    "scrolled": false
   },
   "outputs": [
    {
     "data": {
      "text/plain": [
       "Text(0, 0.5, 'Y')"
      ]
     },
     "execution_count": 20,
     "metadata": {},
     "output_type": "execute_result"
    },
    {
     "data": {
      "image/png": "[encoded data removed]",
      "text/plain": [
       "<Figure size 432x288 with 1 Axes>"
      ]
     },
     "metadata": {
      "needs_background": "light"
     },
     "output_type": "display_data"
    }
   ],
   "source": [
    "f,ax = plt.subplots()\n",
    "ax.plot(x, y, 'o')\n",
    "\n",
    "ax.set_xlabel(\"X\")\n",
    "ax.set_ylabel(\"Y\")"
   ]
  },
  {
   "cell_type": "code",
   "execution_count": 21,
   "metadata": {},
   "outputs": [],
   "source": [
    "from sklearn.model_selection import train_test_split\n",
    "X_train, X_test, y_train, y_test = train_test_split(x, y, test_size=0.3)\n"
   ]
  },
  {
   "cell_type": "markdown",
   "metadata": {},
   "source": [
    "Ajuste del modelo"
   ]
  },
  {
   "cell_type": "code",
   "execution_count": 90,
   "metadata": {},
   "outputs": [
    {
     "name": "stdout",
     "output_type": "stream",
     "text": [
      "Train error RMSE: 326.8785569016826\n",
      "Test error RMSE: 492.69391621908625\n"
     ]
    }
   ],
   "source": [
    "# Polinomio de orden n\n",
    "polynomial_features = PolynomialFeatures(degree=2) # Funcion para transformar los features\n",
    "\n",
    "# Transformamos Train\n",
    "X_train_poly = polynomial_features.fit_transform(X_train)\n",
    "\n",
    "# Importamos el modelo\n",
    "model = LinearRegression()\n",
    "\n",
    "# Entrenamos el modelo\n",
    "model.fit(X_train_poly, y_train)\n",
    "\n",
    "# Prediccion sobre Train\n",
    "y_train_est = model.predict(X_train_poly)\n",
    "\n",
    "# ###########################################\n",
    "#sort_axis = operator.itemgetter(0)\n",
    "#sorted_zip = sorted(zip(X_train, y_poly_pred), key=sort_axis)\n",
    "#xsorted, y_poly_pred = zip(*sorted_zip)\n",
    "\n",
    "# plt.plot(xsorted, y_poly_pred, color='m')\n",
    "# plt.show()\n",
    "\n",
    "# Predicción sobre Test\n",
    "X_test_poly = polynomial_features.fit_transform(X_test)\n",
    "\n",
    "# Prediccion sobre Test\n",
    "y_test_est = model.predict(X_test_poly)\n",
    "\n",
    "\n",
    "# Errores cuadráticos\n",
    "RMSE = np.mean((y_train_est - y_train)**2)\n",
    "print(\"Train error RMSE: \" + str(RMSE))\n",
    "\n",
    "\n",
    "# ###################################################\n",
    "# # x_poly_test = polynomial_features.fit_transform(X_test)\n",
    "RMSE2 = np.mean((y_test_est - y_test)**2)\n",
    "print(\"Test error RMSE: \" + str(RMSE2))\n"
   ]
  },
  {
   "cell_type": "code",
   "execution_count": 91,
   "metadata": {},
   "outputs": [
    {
     "data": {
      "text/plain": [
       "Text(0, 0.5, 'Y')"
      ]
     },
     "execution_count": 91,
     "metadata": {},
     "output_type": "execute_result"
    },
    {
     "data": {
      "image/png": "[encoded data removed]",
      "text/plain": [
       "<Figure size 432x288 with 1 Axes>"
      ]
     },
     "metadata": {
      "needs_background": "light"
     },
     "output_type": "display_data"
    }
   ],
   "source": [
    "f,ax = plt.subplots()\n",
    "ax.scatter(X_train, y_train, label=\"Datos Train\")\n",
    "ax.scatter(X_test, y_test, label=\"Datos Test\")\n",
    "ax.scatter(X_train, y_train_est, label=\"Modelo Train\", s=15) \n",
    "ax.scatter(X_test, y_test_est, label=\"Modelo Test\", s=12)\n",
    "\n",
    "ax.legend()\n",
    "ax.set_xlabel(\"X\")\n",
    "ax.set_ylabel(\"Y\")"
   ]
  },
  {
   "cell_type": "markdown",
   "metadata": {},
   "source": [
    "# Train-Test division\n",
    "En primer lugar importamos los datos. Como ejemplo vamos a utilizar una base de datos de sklearn. El modelo de clasificación que utilizamos va a ser el de una regresión lineal\n"
   ]
  },
  {
   "cell_type": "markdown",
   "metadata": {},
   "source": [
    "Ten baseline variables, age, sex, body mass index, average blood pressure, and six blood serum measurements were obtained for each of n = 442 diabetes patients, as well as the response of interest, a quantitative measure of disease progression one year after baseline.\n",
    "\n",
    "Number of Attributes: First 10 columns are numeric predictive values\n",
    "\n",
    "Target:\tColumn 11 is a quantitative measure of disease progression one year after baseline\n",
    "\n",
    "Attribute Information:\n",
    " \t\n",
    "Age, Sex, Body mass index, Average blood pressure, S1, S2, S3, S4, S5, S6\n",
    "\n",
    "Note: Each of these 10 feature variables have been mean centered and scaled by the standard deviation times n_samples (i.e. the sum of squares of each column totals 1). Source URL: http://www4.stat.ncsu.edu/~boos/var.select/diabetes.html"
   ]
  },
  {
   "cell_type": "markdown",
   "metadata": {},
   "source": [
    "##  Librerias"
   ]
  },
  {
   "cell_type": "code",
   "execution_count": 92,
   "metadata": {},
   "outputs": [],
   "source": [
    "import pandas as pd\n",
    "import numpy as np\n",
    "from sklearn import datasets, linear_model\n",
    "from sklearn.model_selection import train_test_split\n",
    "from matplotlib import pyplot as plt"
   ]
  },
  {
   "cell_type": "markdown",
   "metadata": {},
   "source": [
    "## Load Data"
   ]
  },
  {
   "cell_type": "code",
   "execution_count": 93,
   "metadata": {},
   "outputs": [],
   "source": [
    "diabetes = datasets.load_diabetes() # Dataset diabetes"
   ]
  },
  {
   "cell_type": "code",
   "execution_count": 98,
   "metadata": {},
   "outputs": [],
   "source": [
    "#diabetes[\"data\"][0]"
   ]
  },
  {
   "cell_type": "code",
   "execution_count": 99,
   "metadata": {},
   "outputs": [],
   "source": [
    "columns = \"age sex bmi map tc ldl hdl tch ltg glu\".split() # Nombres de las columnas\n",
    "# # Ponemos datos como df e y\n",
    "X = pd.DataFrame(diabetes.data, columns = columns)\n",
    "y = diabetes.target"
   ]
  },
  {
   "cell_type": "code",
   "execution_count": null,
   "metadata": {},
   "outputs": [],
   "source": []
  },
  {
   "cell_type": "markdown",
   "metadata": {},
   "source": [
    "# Modelo\n",
    "Las regresiones lineales son un modelo explicativo entre la variable de entrada x y la variable de salida y. x puede ser una matriz o multiples variables independientes."
   ]
  },
  {
   "cell_type": "code",
   "execution_count": 105,
   "metadata": {},
   "outputs": [],
   "source": [
    "# create training and testing vars\n",
    "X_train, X_test, y_train, y_test = train_test_split(X, y, test_size=0.2)\n",
    "#print(X_train.shape, y_train.shape)\n"
   ]
  },
  {
   "cell_type": "code",
   "execution_count": 110,
   "metadata": {},
   "outputs": [],
   "source": [
    "#y_test"
   ]
  },
  {
   "cell_type": "code",
   "execution_count": 111,
   "metadata": {},
   "outputs": [],
   "source": [
    "# Ajustamos el modelo\n",
    "lm = linear_model.LinearRegression() # modelo\n",
    "model = lm.fit(X_train, y_train) # Entrenamos con Train\n",
    "predictions = lm.predict(X_test) # Predecimos sobre Test"
   ]
  },
  {
   "cell_type": "code",
   "execution_count": 116,
   "metadata": {},
   "outputs": [],
   "source": [
    "#predictions"
   ]
  },
  {
   "cell_type": "code",
   "execution_count": 115,
   "metadata": {},
   "outputs": [
    {
     "name": "stdout",
     "output_type": "stream",
     "text": [
      "[ 82. 145.  84. 190. 106. 119.  61. 247.  79. 158. 151. 133. 116. 160.\n",
      " 169. 145. 104.  49. 101. 108. 176. 146. 169.  85. 183. 159.  50. 212.\n",
      "  79. 259. 188. 146.  73. 123. 180. 230. 145. 262. 232.  64. 209. 158.\n",
      " 233. 117. 117. 200.  85. 218. 212. 187. 147. 236. 137.  52. 223. 178.\n",
      " 178. 139. 119. 246. 210. 100.  70. 131. 130. 188. 184. 157. 212.  78.\n",
      " 169. 108. 190. 197. 120. 123. 196. 114. 200. 128. 121.  68. 254. 278.\n",
      " 147. 111. 167. 267. 183.]\n"
     ]
    }
   ],
   "source": [
    "print(np.round(predictions))"
   ]
  },
  {
   "cell_type": "code",
   "execution_count": 118,
   "metadata": {
    "scrolled": true
   },
   "outputs": [
    {
     "data": {
      "text/plain": [
       "Text(0, 0.5, 'Predictions Test')"
      ]
     },
     "execution_count": 118,
     "metadata": {},
     "output_type": "execute_result"
    },
    {
     "data": {
      "image/png": "[encoded data removed]",
      "text/plain": [
       "<Figure size 432x288 with 1 Axes>"
      ]
     },
     "metadata": {
      "needs_background": "light"
     },
     "output_type": "display_data"
    }
   ],
   "source": [
    "## Representación del error en Test\n",
    "plt.scatter(y_test, np.round(predictions))\n",
    "plt.xlabel(\"True Values Test\")\n",
    "plt.ylabel(\"Predictions Test\")"
   ]
  },
  {
   "cell_type": "markdown",
   "metadata": {},
   "source": [
    "# Metrica de error R^2"
   ]
  },
  {
   "cell_type": "code",
   "execution_count": 119,
   "metadata": {
    "scrolled": true
   },
   "outputs": [
    {
     "name": "stdout",
     "output_type": "stream",
     "text": [
      "Score en train: 0.5184161424606726\n",
      "Score en test: 0.49318112858613283\n"
     ]
    }
   ],
   "source": [
    "print(\"Score en train:\", model.score(X_train, y_train))\n",
    "print(\"Score en test:\", model.score(X_test, y_test))"
   ]
  },
  {
   "cell_type": "markdown",
   "metadata": {},
   "source": [
    "## Cross validation"
   ]
  },
  {
   "cell_type": "code",
   "execution_count": 120,
   "metadata": {
    "scrolled": false
   },
   "outputs": [],
   "source": [
    "# Necessary imports: \n",
    "from sklearn.model_selection import cross_val_score, cross_val_predict\n",
    "from sklearn import metrics"
   ]
  },
  {
   "cell_type": "code",
   "execution_count": 127,
   "metadata": {},
   "outputs": [
    {
     "name": "stdout",
     "output_type": "stream",
     "text": [
      "Score1: 0.4955146547218018\n",
      "Score2: 0.45336620451618226\n"
     ]
    }
   ],
   "source": [
    "# Realizamos un CV a mano\n",
    "X_v1, X_v2, y_v1, y_v2 = train_test_split(X_train, y_train, test_size=0.5)\n",
    "model1 = lm.fit(X_v1, y_v1)\n",
    "print(\"Score1:\", model1.score(X_v2, y_v2))\n",
    "\n",
    "model2 = lm.fit(X_v2, y_v2)\n",
    "print(\"Score2:\", model2.score(X_v1, y_v1))"
   ]
  },
  {
   "cell_type": "code",
   "execution_count": 139,
   "metadata": {
    "scrolled": true
   },
   "outputs": [
    {
     "ename": "NameError",
     "evalue": "name 'KFold' is not defined",
     "output_type": "error",
     "traceback": [
      "\u001b[0;31m---------------------------------------------------------------------------\u001b[0m",
      "\u001b[0;31mNameError\u001b[0m                                 Traceback (most recent call last)",
      "\u001b[0;32m<ipython-input-139-c37321798690>\u001b[0m in \u001b[0;36m<module>\u001b[0;34m()\u001b[0m\n\u001b[1;32m      4\u001b[0m \u001b[0;34m\u001b[0m\u001b[0m\n\u001b[1;32m      5\u001b[0m \u001b[0;31m# scores = cross_val_score(lm, X_train, y_train, cv=7)\u001b[0m\u001b[0;34m\u001b[0m\u001b[0;34m\u001b[0m\u001b[0;34m\u001b[0m\u001b[0m\n\u001b[0;32m----> 6\u001b[0;31m \u001b[0mscores\u001b[0m \u001b[0;34m=\u001b[0m \u001b[0mcross_val_score\u001b[0m\u001b[0;34m(\u001b[0m\u001b[0mlm\u001b[0m\u001b[0;34m,\u001b[0m \u001b[0mX_train\u001b[0m\u001b[0;34m,\u001b[0m \u001b[0my_train\u001b[0m\u001b[0;34m,\u001b[0m \u001b[0mcv\u001b[0m\u001b[0;34m=\u001b[0m\u001b[0mKFold\u001b[0m\u001b[0;34m(\u001b[0m\u001b[0;36m3\u001b[0m\u001b[0;34m,\u001b[0m \u001b[0mshuffle\u001b[0m\u001b[0;34m=\u001b[0m\u001b[0;32mTrue\u001b[0m\u001b[0;34m)\u001b[0m\u001b[0;34m)\u001b[0m\u001b[0;34m\u001b[0m\u001b[0;34m\u001b[0m\u001b[0m\n\u001b[0m\u001b[1;32m      7\u001b[0m \u001b[0;34m\u001b[0m\u001b[0m\n\u001b[1;32m      8\u001b[0m \u001b[0mprint\u001b[0m\u001b[0;34m(\u001b[0m\u001b[0;34m\"Cross-validated scores:\"\u001b[0m\u001b[0;34m,\u001b[0m \u001b[0mscores\u001b[0m\u001b[0;34m)\u001b[0m\u001b[0;34m\u001b[0m\u001b[0;34m\u001b[0m\u001b[0m\n",
      "\u001b[0;31mNameError\u001b[0m: name 'KFold' is not defined"
     ]
    }
   ],
   "source": [
    "# Cross validation\n",
    "# Construimos el modelo e indicamos los datos con los que se va entrenar\n",
    "lm = linear_model.LinearRegression()\n",
    "\n",
    "# scores = cross_val_score(lm, X_train, y_train, cv=7)\n",
    "scores = cross_val_score(lm, X_train, y_train, cv=KFold(3, shuffle=True))\n",
    "\n",
    "print(\"Cross-validated scores:\", scores)\n",
    "print(\"Cross-validated mean scores:\", np.mean(scores))\n"
   ]
  },
  {
   "cell_type": "code",
   "execution_count": 143,
   "metadata": {},
   "outputs": [
    {
     "data": {
      "text/plain": [
       "True"
      ]
     },
     "execution_count": 143,
     "metadata": {},
     "output_type": "execute_result"
    }
   ],
   "source": [
    "scores."
   ]
  }
 ],
 "metadata": {
  "kernelspec": {
   "display_name": "Python 3",
   "language": "python",
   "name": "python3"
  },
  "language_info": {
   "codemirror_mode": {
    "name": "ipython",
    "version": 3
   },
   "file_extension": ".py",
   "mimetype": "text/x-python",
   "name": "python",
   "nbconvert_exporter": "python",
   "pygments_lexer": "ipython3",
   "version": "3.7.5rc1"
  }
 },
 "nbformat": 4,
 "nbformat_minor": 2
}
