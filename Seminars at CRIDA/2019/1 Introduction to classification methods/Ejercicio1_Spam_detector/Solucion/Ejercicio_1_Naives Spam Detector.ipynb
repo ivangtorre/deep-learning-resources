{
 "cells": [
  {
   "cell_type": "markdown",
   "metadata": {},
   "source": [
    "## Implementacion de un clasificador Bayesiano\n",
    "Algo a lo que probablemente todas las personas hoy en día estamos acostumbradas es a recibir bastantes mails de spam todos los días. Aunque la definición de spam es amplia y podría abarcar desde mails sobre una \"herencia millonaria\" en Sudáfrica hasta grupos de trabajo demasiado \"activos\"; vamos a quedarnos únicamente con los primeros.\n",
    "\n",
    "Estos mails se caracterizan por contener información falsa, promociones no deseadas, suplementación de identidad,  y otras técnicas incluso más graves. Vamos a progamar un clasificador que distinga entre mails de spam y mails buenos (ham).\n"
   ]
  },
  {
   "cell_type": "code",
   "execution_count": 1,
   "metadata": {
    "scrolled": false
   },
   "outputs": [
    {
     "name": "stdout",
     "output_type": "stream",
     "text": [
      "     v1                                                 v2 Unnamed: 2  \\\n",
      "0   ham  Go until jurong point, crazy.. Available only ...        NaN   \n",
      "1   ham                      Ok lar... Joking wif u oni...        NaN   \n",
      "2  spam  Free entry in 2 a wkly comp to win FA Cup fina...        NaN   \n",
      "3   ham  U dun say so early hor... U c already then say...        NaN   \n",
      "4   ham  Nah I don't think he goes to usf, he lives aro...        NaN   \n",
      "\n",
      "  Unnamed: 3 Unnamed: 4  \n",
      "0        NaN        NaN  \n",
      "1        NaN        NaN  \n",
      "2        NaN        NaN  \n",
      "3        NaN        NaN  \n",
      "4        NaN        NaN  \n"
     ]
    }
   ],
   "source": [
    "# Importar los datos\n",
    "import pandas as pd\n",
    "mail_data = pd.read_csv(\"naives_spam_data.csv\", encoding=\"iso-8859-1\")\n",
    "print(mail_data.head())"
   ]
  },
  {
   "cell_type": "markdown",
   "metadata": {},
   "source": [
    "## Paso 1: Analizar y limpiar los datos\n",
    "Los datos absolutamente siempre necesitan ser inspeccionados, filtrados, ordenados, etc."
   ]
  },
  {
   "cell_type": "code",
   "execution_count": 2,
   "metadata": {},
   "outputs": [
    {
     "name": "stdout",
     "output_type": "stream",
     "text": [
      "     v1                                                 v2\n",
      "0   ham  Go until jurong point, crazy.. Available only ...\n",
      "1   ham                      Ok lar... Joking wif u oni...\n",
      "2  spam  Free entry in 2 a wkly comp to win FA Cup fina...\n",
      "3   ham  U dun say so early hor... U c already then say...\n",
      "4   ham  Nah I don't think he goes to usf, he lives aro...\n",
      "5  spam  FreeMsg Hey there darling it's been 3 week's n...\n",
      "6   ham  Even my brother is not like to speak with me. ...\n",
      "7   ham  As per your request 'Melle Melle (Oru Minnamin...\n",
      "8  spam  WINNER!! As a valued network customer you have...\n",
      "9  spam  Had your mobile 11 months or more? U R entitle...\n"
     ]
    }
   ],
   "source": [
    "# Eliminamos columnas Nan\n",
    "datalimpio = mail_data.dropna(axis=1, how='any') \n",
    "print(datalimpio.head(10))"
   ]
  },
  {
   "cell_type": "code",
   "execution_count": 3,
   "metadata": {},
   "outputs": [
    {
     "name": "stdout",
     "output_type": "stream",
     "text": [
      "  class                                               text\n",
      "0   ham  Go until jurong point, crazy.. Available only ...\n",
      "1   ham                      Ok lar... Joking wif u oni...\n",
      "2  spam  Free entry in 2 a wkly comp to win FA Cup fina...\n",
      "3   ham  U dun say so early hor... U c already then say...\n",
      "4   ham  Nah I don't think he goes to usf, he lives aro...\n",
      "5  spam  FreeMsg Hey there darling it's been 3 week's n...\n",
      "6   ham  Even my brother is not like to speak with me. ...\n",
      "7   ham  As per your request 'Melle Melle (Oru Minnamin...\n",
      "8  spam  WINNER!! As a valued network customer you have...\n",
      "9  spam  Had your mobile 11 months or more? U R entitle...\n"
     ]
    }
   ],
   "source": [
    "# Ponemos encabezados a las columnas\n",
    "datalimpio.columns = ['class', 'text']\n",
    "print(datalimpio.head(10))"
   ]
  },
  {
   "cell_type": "code",
   "execution_count": 45,
   "metadata": {},
   "outputs": [
    {
     "data": {
      "text/html": [
       "<div>\n",
       "<style scoped>\n",
       "    .dataframe tbody tr th:only-of-type {\n",
       "        vertical-align: middle;\n",
       "    }\n",
       "\n",
       "    .dataframe tbody tr th {\n",
       "        vertical-align: top;\n",
       "    }\n",
       "\n",
       "    .dataframe thead tr th {\n",
       "        text-align: left;\n",
       "    }\n",
       "\n",
       "    .dataframe thead tr:last-of-type th {\n",
       "        text-align: right;\n",
       "    }\n",
       "</style>\n",
       "<table border=\"1\" class=\"dataframe\">\n",
       "  <thead>\n",
       "    <tr>\n",
       "      <th></th>\n",
       "      <th colspan=\"4\" halign=\"left\">text</th>\n",
       "    </tr>\n",
       "    <tr>\n",
       "      <th></th>\n",
       "      <th>count</th>\n",
       "      <th>unique</th>\n",
       "      <th>top</th>\n",
       "      <th>freq</th>\n",
       "    </tr>\n",
       "    <tr>\n",
       "      <th>class</th>\n",
       "      <th></th>\n",
       "      <th></th>\n",
       "      <th></th>\n",
       "      <th></th>\n",
       "    </tr>\n",
       "  </thead>\n",
       "  <tbody>\n",
       "    <tr>\n",
       "      <th>ham</th>\n",
       "      <td>4825</td>\n",
       "      <td>4516</td>\n",
       "      <td>Sorry, I'll call later</td>\n",
       "      <td>30</td>\n",
       "    </tr>\n",
       "    <tr>\n",
       "      <th>spam</th>\n",
       "      <td>747</td>\n",
       "      <td>653</td>\n",
       "      <td>Please call our customer service representativ...</td>\n",
       "      <td>4</td>\n",
       "    </tr>\n",
       "  </tbody>\n",
       "</table>\n",
       "</div>"
      ],
      "text/plain": [
       "       text                                                               \n",
       "      count unique                                                top freq\n",
       "class                                                                     \n",
       "ham    4825   4516                             Sorry, I'll call later   30\n",
       "spam    747    653  Please call our customer service representativ...    4"
      ]
     },
     "execution_count": 45,
     "metadata": {},
     "output_type": "execute_result"
    }
   ],
   "source": [
    "# Exploramos cuantos datos tenemos de cada clase\n",
    "datalimpio.groupby('class').describe()\n"
   ]
  },
  {
   "cell_type": "markdown",
   "metadata": {},
   "source": [
    "### Algunas observaciones\n",
    "Vemos que alrededor del 15% de los mensajes que tenemos en el set son spam\n",
    "Que hay algunos mensajes que se repiten exactamente\n",
    "\n",
    "### Continuamos haciendo un análisis exploratorio del problema\n",
    "Longitud del mensaje\n"
   ]
  },
  {
   "cell_type": "code",
   "execution_count": 46,
   "metadata": {},
   "outputs": [
    {
     "name": "stdout",
     "output_type": "stream",
     "text": [
      "  class                                               text  longitud\n",
      "0   ham  Go until jurong point, crazy.. Available only ...       111\n",
      "1   ham                      Ok lar... Joking wif u oni...        29\n",
      "2  spam  Free entry in 2 a wkly comp to win FA Cup fina...       155\n",
      "3   ham  U dun say so early hor... U c already then say...        49\n",
      "4   ham  Nah I don't think he goes to usf, he lives aro...        61\n",
      "5  spam  FreeMsg Hey there darling it's been 3 week's n...       148\n",
      "6   ham  Even my brother is not like to speak with me. ...        77\n",
      "7   ham  As per your request 'Melle Melle (Oru Minnamin...       160\n",
      "8  spam  WINNER!! As a valued network customer you have...       158\n",
      "9  spam  Had your mobile 11 months or more? U R entitle...       154\n"
     ]
    }
   ],
   "source": [
    "# Creamos una nueva columna con la longitud del mensaje\n",
    "datalimpio = datalimpio.assign(longitud=datalimpio['text'].apply(len).values)\n",
    "print(datalimpio.head(10))"
   ]
  },
  {
   "cell_type": "code",
   "execution_count": 139,
   "metadata": {
    "scrolled": false
   },
   "outputs": [
    {
     "data": {
      "text/plain": [
       "Text(0,0.5,'Probability')"
      ]
     },
     "execution_count": 139,
     "metadata": {},
     "output_type": "execute_result"
    },
    {
     "data": {
      "image/png": "[encoded data removed]",
      "text/plain": [
       "<Figure size 648x432 with 1 Axes>"
      ]
     },
     "metadata": {},
     "output_type": "display_data"
    }
   ],
   "source": [
    "import matplotlib.pyplot as plt\n",
    "%matplotlib inline\n",
    "\n",
    "# Creamos la figura\n",
    "plt.figure(figsize=[9,6])\n",
    "\n",
    "# Dibujamos los histogramas normalizados, transparencias...\n",
    "plt.hist(datalimpio[datalimpio[\"class\"] == \"ham\"].longitud, bins=15, label = \"ham\", density=True, alpha = 0.5)\n",
    "plt.hist(datalimpio[datalimpio[\"class\"] == \"spam\"].longitud, bins=15, label = \"spam\", density=True, alpha = 0.5)\n",
    "plt.legend(loc='upper right')\n",
    "plt.xlabel(\"Longitud\")\n",
    "plt.ylabel(\"Probability\")\n",
    "\n",
    "#datalimpio.hist(column='longitud',by='class',bins=30, figsize=(15,6))\n",
    "\n"
   ]
  },
  {
   "cell_type": "markdown",
   "metadata": {},
   "source": [
    "## Modelo 1: Buscar el punto de corte de las distribuciones"
   ]
  },
  {
   "cell_type": "markdown",
   "metadata": {},
   "source": [
    "## Modelo 2: Tener en cuenta frecuencia de las palabras"
   ]
  },
  {
   "cell_type": "code",
   "execution_count": 200,
   "metadata": {},
   "outputs": [],
   "source": [
    "# Vamos a convertir nuestra tabla en un diccionario. Otra forma de representacion\n",
    "\n",
    "message_dict = {}  \n",
    "for i in range(len(datalimpio)):\n",
    "    message_dict[datalimpio[\"text\"][i]] = datalimpio[\"class\"][i]\n",
    "\n",
    "labels = list(message_dict.values())\n",
    "\n",
    "# Convertir las etiquetas en numeros. ham es 1, spam será el 2\n",
    "labels = [1 if x == \"ham\" else 2 for x in labels]\n",
    "messages_temp = list(message_dict.keys())"
   ]
  },
  {
   "cell_type": "code",
   "execution_count": 207,
   "metadata": {},
   "outputs": [],
   "source": [
    "# Limpiamos los datos\n",
    "\n",
    "import re\n",
    "messages = []\n",
    "for msg in messages_temp:\n",
    "    output = re.sub(r'\\d+', ' ', msg) # Sustituir numeros con spacios\n",
    "    output = re.sub(r\"\\s+\", \" \", output) # Sustituir spacios con uno solo\n",
    "    output = output.strip() #Elimina espacios previos y posteriores\n",
    "    messages.append(output)"
   ]
  },
  {
   "cell_type": "code",
   "execution_count": 214,
   "metadata": {
    "scrolled": true
   },
   "outputs": [
    {
     "name": "stdout",
     "output_type": "stream",
     "text": [
      "Mensajes Limpios\n",
      "=================\n",
      "\n",
      "1. Go until jurong point, crazy.. Available only in bugis n great world la e buffet... Cine there got amore wat...\n",
      "2. Ok lar... Joking wif u oni...\n",
      "3. Free entry in a wkly comp to win FA Cup final tkts st May . Text FA to to receive entry question(std txt rate)T&C's apply over 's\n",
      "4. U dun say so early hor... U c already then say...\n",
      "5. Nah I don't think he goes to usf, he lives around here though\n"
     ]
    }
   ],
   "source": [
    "print(\"Mensajes Limpios\")\n",
    "print(\"=================\\n\")\n",
    "for i in range(5):\n",
    "    print(str(i+1) + \". \" + messages[i])"
   ]
  },
  {
   "cell_type": "markdown",
   "metadata": {},
   "source": [
    "### Representation de lso datos\n",
    "Ahora necesitamos convertir todos estos datos en una tabla de frecuencias para que el clasificador bayesiano pueda computar las probabilidades condicionadas\n",
    "\n",
    "Vamos a tokenizar los mensajes: \n",
    "\n",
    "```\n",
    "(1) Juan quiere ver una pelicula. Maria no.\n",
    "(2) Juan tambien quiere comer.\n",
    "```\n",
    "\n",
    "Conviertiendolos en\n",
    "```\n",
    " \"Juan\"\n",
    " \"quiere\"\n",
    " \"ver\"\n",
    " \"una\"\n",
    " \"pelicula\"\n",
    " \"Maria\"\n",
    " \"no\"\n",
    " \"tambien\"\n",
    " \"comer\"\n",
    "\n",
    "Frequency of vocabulary:\n",
    "\n",
    "\n",
    "| Word     | Frequency |\n",
    "|----------|-----------|\n",
    "| Juan     |     2     |\n",
    "| quiere   |     2     |\n",
    "| ver      |     1     |\n",
    "| una      |     1     |\n",
    "| pelicula |     1     |\n",
    "| Maria    |     1     |\n",
    "| no       |     1     |\n",
    "| tambien  |     1     |\n",
    "| comer    |     1     |\n",
    "\n",
    "\n",
    "La representacion de una frase sera:\n",
    "\n",
    "| Sentence                       | Juan | quiere | ver | una | pelicula | Maria | tambien | comer |\n",
    "|--------------------------------|------|--------|-----|-----|----------|-------|---------|-------|\n",
    "| Juan tambien quiere comer      | 1    |  1     |  0  | 0   | 0        | 0     | 1       | 1     |\n",
    "\n",
    "\n",
    "Se convierte en una matriz donde las columnas son los \"features\" o posible vocabulario\n",
    "\n",
    "#### CountVectorizer\n",
    "\n",
    "[CountVectorizer](http://scikit-learn.org/stable/modules/generated/sklearn.feature_extraction.text.CountVectorizer.html) es una funcion que nos hace la vida más fácil [scikit-learn](http://scikit-learn.org/stable/index.html). \n",
    "\n",
    "- Tokenizacion del texto. — Vectorizacion y tokenizacion\n",
    "- Eliminar palabras poco frecuentes\n",
    "- Eliminar palabras que ocurren demasiado\n",
    "- Eliminar palabras que probablemente no vuelvan a ocurrir.\n"
   ]
  },
  {
   "cell_type": "code",
   "execution_count": 217,
   "metadata": {},
   "outputs": [],
   "source": [
    "from sklearn.feature_extraction.text import CountVectorizer\n",
    "vectorizer = CountVectorizer(min_df=5, # frecuencia minima para ser considerada vocabulario\n",
    "                             ngram_range=(1, 1), # tokenizacion como n-gramas, usamos 1 ngrama\n",
    "                            )\n",
    "vect = vectorizer.fit_transform(messages)"
   ]
  },
  {
   "cell_type": "code",
   "execution_count": 218,
   "metadata": {
    "scrolled": true
   },
   "outputs": [
    {
     "name": "stdout",
     "output_type": "stream",
     "text": [
      "  (0, 675)\t1\n",
      "  (0, 707)\t1\n",
      "  (0, 935)\t1\n",
      "Ok lar... Joking wif u oni...\n"
     ]
    }
   ],
   "source": [
    "print(vect[1,0:1400])\n",
    "print(messages[1])"
   ]
  },
  {
   "cell_type": "code",
   "execution_count": 230,
   "metadata": {
    "scrolled": true
   },
   "outputs": [
    {
     "name": "stdout",
     "output_type": "stream",
     "text": [
      "Vocabulario total:  1609\n",
      "\n",
      "Muestra del vocabulario o features\n",
      "=======================\n",
      "\n",
      "abiola\n",
      "able\n",
      "about\n",
      "abt\n",
      "ac\n",
      "acc\n",
      "access\n",
      "account\n",
      "across\n",
      "activate\n",
      "actually\n",
      "ad\n",
      "add\n",
      "added\n",
      "address\n",
      "admirer\n",
      "advance\n",
      "advice\n",
      "aft\n",
      "after\n"
     ]
    }
   ],
   "source": [
    "print (\"Vocabulario total: \", len(vectorizer.get_feature_names()))\n",
    "print(\"\\nMuestra del vocabulario o features\")\n",
    "print(\"=======================\\n\")\n",
    "\n",
    "for i, value in enumerate(vectorizer.get_feature_names()):\n",
    "    if i < 20:\n",
    "        print(value)"
   ]
  },
  {
   "cell_type": "code",
   "execution_count": 221,
   "metadata": {},
   "outputs": [
    {
     "name": "stdout",
     "output_type": "stream",
     "text": [
      "Numero total de mensajes:  5169\n",
      "Numero total de features (vocabulario):  1609\n"
     ]
    }
   ],
   "source": [
    "num_samples, num_features = vect.shape\n",
    "print(\"Numero total de mensajes: \", num_samples)\n",
    "print(\"Numero total de features (vocabulario): \", num_features)"
   ]
  },
  {
   "cell_type": "markdown",
   "metadata": {},
   "source": [
    "## Train set, Test set"
   ]
  },
  {
   "cell_type": "code",
   "execution_count": 223,
   "metadata": {},
   "outputs": [],
   "source": [
    "# Dividimos entre train y test\n",
    "from sklearn.model_selection import train_test_split\n",
    "X_train, X_test, y_train, y_test = train_test_split(vect, labels, test_size=0.3, random_state=0)"
   ]
  },
  {
   "cell_type": "markdown",
   "metadata": {},
   "source": [
    "## Entrenamos el modelo con los datos de train"
   ]
  },
  {
   "cell_type": "code",
   "execution_count": 227,
   "metadata": {},
   "outputs": [
    {
     "data": {
      "text/plain": [
       "MultinomialNB(alpha=1.0, class_prior=None, fit_prior=True)"
      ]
     },
     "execution_count": 227,
     "metadata": {},
     "output_type": "execute_result"
    }
   ],
   "source": [
    "from sklearn.naive_bayes import MultinomialNB\n",
    "clf = MultinomialNB() # Inicializar el clasificador\n",
    "clf.fit(X_train, y_train) # Entrenar el modelo con los datos de train"
   ]
  },
  {
   "cell_type": "markdown",
   "metadata": {},
   "source": [
    "## Testeamos el modelo con los datos que hemos guardado para el test\n"
   ]
  },
  {
   "cell_type": "code",
   "execution_count": 228,
   "metadata": {},
   "outputs": [],
   "source": [
    "y_pred_mnb = clf.predict(X_test) "
   ]
  },
  {
   "cell_type": "markdown",
   "metadata": {},
   "source": [
    "## Precisión de nuestro modelo"
   ]
  },
  {
   "cell_type": "code",
   "execution_count": 231,
   "metadata": {},
   "outputs": [
    {
     "name": "stdout",
     "output_type": "stream",
     "text": [
      "Precisión del modelo es:  0.9800128949065119\n"
     ]
    }
   ],
   "source": [
    "from sklearn.metrics import accuracy_score\n",
    "result = accuracy_score(y_test, y_pred_mnb)\n",
    "print(\"Precisión del modelo es: \", result)"
   ]
  }
 ],
 "metadata": {
  "kernelspec": {
   "display_name": "Python 3",
   "language": "python",
   "name": "python3"
  },
  "language_info": {
   "codemirror_mode": {
    "name": "ipython",
    "version": 3
   },
   "file_extension": ".py",
   "mimetype": "text/x-python",
   "name": "python",
   "nbconvert_exporter": "python",
   "pygments_lexer": "ipython3",
   "version": "3.6.6"
  }
 },
 "nbformat": 4,
 "nbformat_minor": 2
}
