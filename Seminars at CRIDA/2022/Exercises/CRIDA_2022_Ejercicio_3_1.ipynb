{
 "nbformat": 4,
 "nbformat_minor": 0,
 "metadata": {
  "colab": {
   "name": "CRIDA_2022_Ejercicio_3_1.ipynb",
   "provenance": [],
   "include_colab_link": true
  },
  "kernelspec": {
   "name": "python3",
   "display_name": "Python 3"
  },
  "accelerator": "GPU",
  "widgets": {
   "application/vnd.jupyter.widget-state+json": {
    "b8bbd64d22754138bc7289cf775a73c2": {
     "model_module": "@jupyter-widgets/controls",
     "model_name": "HBoxModel",
     "model_module_version": "1.5.0",
     "state": {
      "_view_name": "HBoxView",
      "_dom_classes": [],
      "_model_name": "HBoxModel",
      "_view_module": "@jupyter-widgets/controls",
      "_model_module_version": "1.5.0",
      "_view_count": null,
      "_view_module_version": "1.5.0",
      "box_style": "",
      "layout": "IPY_MODEL_575b9cc6d04143268c1f66275da50e51",
      "_model_module": "@jupyter-widgets/controls",
      "children": [
       "IPY_MODEL_f522baca36004497bc09abe77f8be10e",
       "IPY_MODEL_46495a108f56491f84f66b0d0375e6d8",
       "IPY_MODEL_ef338b77f44143ac99383e94d76ba47a"
      ]
     }
    },
    "575b9cc6d04143268c1f66275da50e51": {
     "model_module": "@jupyter-widgets/base",
     "model_name": "LayoutModel",
     "model_module_version": "1.2.0",
     "state": {
      "_view_name": "LayoutView",
      "grid_template_rows": null,
      "right": null,
      "justify_content": null,
      "_view_module": "@jupyter-widgets/base",
      "overflow": null,
      "_model_module_version": "1.2.0",
      "_view_count": null,
      "flex_flow": null,
      "width": null,
      "min_width": null,
      "border": null,
      "align_items": null,
      "bottom": null,
      "_model_module": "@jupyter-widgets/base",
      "top": null,
      "grid_column": null,
      "overflow_y": null,
      "overflow_x": null,
      "grid_auto_flow": null,
      "grid_area": null,
      "grid_template_columns": null,
      "flex": null,
      "_model_name": "LayoutModel",
      "justify_items": null,
      "grid_row": null,
      "max_height": null,
      "align_content": null,
      "visibility": null,
      "align_self": null,
      "height": null,
      "min_height": null,
      "padding": null,
      "grid_auto_rows": null,
      "grid_gap": null,
      "max_width": null,
      "order": null,
      "_view_module_version": "1.2.0",
      "grid_template_areas": null,
      "object_position": null,
      "object_fit": null,
      "grid_auto_columns": null,
      "margin": null,
      "display": null,
      "left": null
     }
    },
    "f522baca36004497bc09abe77f8be10e": {
     "model_module": "@jupyter-widgets/controls",
     "model_name": "HTMLModel",
     "model_module_version": "1.5.0",
     "state": {
      "_view_name": "HTMLView",
      "style": "IPY_MODEL_5a88850eb0814cf1a12a73492b58d9bb",
      "_dom_classes": [],
      "description": "",
      "_model_name": "HTMLModel",
      "placeholder": "​",
      "_view_module": "@jupyter-widgets/controls",
      "_model_module_version": "1.5.0",
      "value": "",
      "_view_count": null,
      "_view_module_version": "1.5.0",
      "description_tooltip": null,
      "_model_module": "@jupyter-widgets/controls",
      "layout": "IPY_MODEL_8f8d1c51cb10449da0bf4744af8fe65f"
     }
    },
    "46495a108f56491f84f66b0d0375e6d8": {
     "model_module": "@jupyter-widgets/controls",
     "model_name": "FloatProgressModel",
     "model_module_version": "1.5.0",
     "state": {
      "_view_name": "ProgressView",
      "style": "IPY_MODEL_a24155393ddd46d6a531e0ea766fc45d",
      "_dom_classes": [],
      "description": "",
      "_model_name": "FloatProgressModel",
      "bar_style": "success",
      "max": 9912422,
      "_view_module": "@jupyter-widgets/controls",
      "_model_module_version": "1.5.0",
      "value": 9912422,
      "_view_count": null,
      "_view_module_version": "1.5.0",
      "orientation": "horizontal",
      "min": 0,
      "description_tooltip": null,
      "_model_module": "@jupyter-widgets/controls",
      "layout": "IPY_MODEL_80bf41e10e9b4fb982abcbc4e674406c"
     }
    },
    "ef338b77f44143ac99383e94d76ba47a": {
     "model_module": "@jupyter-widgets/controls",
     "model_name": "HTMLModel",
     "model_module_version": "1.5.0",
     "state": {
      "_view_name": "HTMLView",
      "style": "IPY_MODEL_5d4c7dc299424f83a5d2fb6062929a8a",
      "_dom_classes": [],
      "description": "",
      "_model_name": "HTMLModel",
      "placeholder": "​",
      "_view_module": "@jupyter-widgets/controls",
      "_model_module_version": "1.5.0",
      "value": " 9913344/? [00:00&lt;00:00, 27451764.48it/s]",
      "_view_count": null,
      "_view_module_version": "1.5.0",
      "description_tooltip": null,
      "_model_module": "@jupyter-widgets/controls",
      "layout": "IPY_MODEL_9759647adba34de8a9fabae8e1a7882b"
     }
    },
    "5a88850eb0814cf1a12a73492b58d9bb": {
     "model_module": "@jupyter-widgets/controls",
     "model_name": "DescriptionStyleModel",
     "model_module_version": "1.5.0",
     "state": {
      "_view_name": "StyleView",
      "_model_name": "DescriptionStyleModel",
      "description_width": "",
      "_view_module": "@jupyter-widgets/base",
      "_model_module_version": "1.5.0",
      "_view_count": null,
      "_view_module_version": "1.2.0",
      "_model_module": "@jupyter-widgets/controls"
     }
    },
    "8f8d1c51cb10449da0bf4744af8fe65f": {
     "model_module": "@jupyter-widgets/base",
     "model_name": "LayoutModel",
     "model_module_version": "1.2.0",
     "state": {
      "_view_name": "LayoutView",
      "grid_template_rows": null,
      "right": null,
      "justify_content": null,
      "_view_module": "@jupyter-widgets/base",
      "overflow": null,
      "_model_module_version": "1.2.0",
      "_view_count": null,
      "flex_flow": null,
      "width": null,
      "min_width": null,
      "border": null,
      "align_items": null,
      "bottom": null,
      "_model_module": "@jupyter-widgets/base",
      "top": null,
      "grid_column": null,
      "overflow_y": null,
      "overflow_x": null,
      "grid_auto_flow": null,
      "grid_area": null,
      "grid_template_columns": null,
      "flex": null,
      "_model_name": "LayoutModel",
      "justify_items": null,
      "grid_row": null,
      "max_height": null,
      "align_content": null,
      "visibility": null,
      "align_self": null,
      "height": null,
      "min_height": null,
      "padding": null,
      "grid_auto_rows": null,
      "grid_gap": null,
      "max_width": null,
      "order": null,
      "_view_module_version": "1.2.0",
      "grid_template_areas": null,
      "object_position": null,
      "object_fit": null,
      "grid_auto_columns": null,
      "margin": null,
      "display": null,
      "left": null
     }
    },
    "a24155393ddd46d6a531e0ea766fc45d": {
     "model_module": "@jupyter-widgets/controls",
     "model_name": "ProgressStyleModel",
     "model_module_version": "1.5.0",
     "state": {
      "_view_name": "StyleView",
      "_model_name": "ProgressStyleModel",
      "description_width": "",
      "_view_module": "@jupyter-widgets/base",
      "_model_module_version": "1.5.0",
      "_view_count": null,
      "_view_module_version": "1.2.0",
      "bar_color": null,
      "_model_module": "@jupyter-widgets/controls"
     }
    },
    "80bf41e10e9b4fb982abcbc4e674406c": {
     "model_module": "@jupyter-widgets/base",
     "model_name": "LayoutModel",
     "model_module_version": "1.2.0",
     "state": {
      "_view_name": "LayoutView",
      "grid_template_rows": null,
      "right": null,
      "justify_content": null,
      "_view_module": "@jupyter-widgets/base",
      "overflow": null,
      "_model_module_version": "1.2.0",
      "_view_count": null,
      "flex_flow": null,
      "width": null,
      "min_width": null,
      "border": null,
      "align_items": null,
      "bottom": null,
      "_model_module": "@jupyter-widgets/base",
      "top": null,
      "grid_column": null,
      "overflow_y": null,
      "overflow_x": null,
      "grid_auto_flow": null,
      "grid_area": null,
      "grid_template_columns": null,
      "flex": null,
      "_model_name": "LayoutModel",
      "justify_items": null,
      "grid_row": null,
      "max_height": null,
      "align_content": null,
      "visibility": null,
      "align_self": null,
      "height": null,
      "min_height": null,
      "padding": null,
      "grid_auto_rows": null,
      "grid_gap": null,
      "max_width": null,
      "order": null,
      "_view_module_version": "1.2.0",
      "grid_template_areas": null,
      "object_position": null,
      "object_fit": null,
      "grid_auto_columns": null,
      "margin": null,
      "display": null,
      "left": null
     }
    },
    "5d4c7dc299424f83a5d2fb6062929a8a": {
     "model_module": "@jupyter-widgets/controls",
     "model_name": "DescriptionStyleModel",
     "model_module_version": "1.5.0",
     "state": {
      "_view_name": "StyleView",
      "_model_name": "DescriptionStyleModel",
      "description_width": "",
      "_view_module": "@jupyter-widgets/base",
      "_model_module_version": "1.5.0",
      "_view_count": null,
      "_view_module_version": "1.2.0",
      "_model_module": "@jupyter-widgets/controls"
     }
    },
    "9759647adba34de8a9fabae8e1a7882b": {
     "model_module": "@jupyter-widgets/base",
     "model_name": "LayoutModel",
     "model_module_version": "1.2.0",
     "state": {
      "_view_name": "LayoutView",
      "grid_template_rows": null,
      "right": null,
      "justify_content": null,
      "_view_module": "@jupyter-widgets/base",
      "overflow": null,
      "_model_module_version": "1.2.0",
      "_view_count": null,
      "flex_flow": null,
      "width": null,
      "min_width": null,
      "border": null,
      "align_items": null,
      "bottom": null,
      "_model_module": "@jupyter-widgets/base",
      "top": null,
      "grid_column": null,
      "overflow_y": null,
      "overflow_x": null,
      "grid_auto_flow": null,
      "grid_area": null,
      "grid_template_columns": null,
      "flex": null,
      "_model_name": "LayoutModel",
      "justify_items": null,
      "grid_row": null,
      "max_height": null,
      "align_content": null,
      "visibility": null,
      "align_self": null,
      "height": null,
      "min_height": null,
      "padding": null,
      "grid_auto_rows": null,
      "grid_gap": null,
      "max_width": null,
      "order": null,
      "_view_module_version": "1.2.0",
      "grid_template_areas": null,
      "object_position": null,
      "object_fit": null,
      "grid_auto_columns": null,
      "margin": null,
      "display": null,
      "left": null
     }
    },
    "91225832b9b44257b7905485d0b5d7c5": {
     "model_module": "@jupyter-widgets/controls",
     "model_name": "HBoxModel",
     "model_module_version": "1.5.0",
     "state": {
      "_view_name": "HBoxView",
      "_dom_classes": [],
      "_model_name": "HBoxModel",
      "_view_module": "@jupyter-widgets/controls",
      "_model_module_version": "1.5.0",
      "_view_count": null,
      "_view_module_version": "1.5.0",
      "box_style": "",
      "layout": "IPY_MODEL_b702295801da42609a7570d27297f595",
      "_model_module": "@jupyter-widgets/controls",
      "children": [
       "IPY_MODEL_8b45b2e804a245619ec662142121f0cc",
       "IPY_MODEL_63cb895243f74507a9c5542e618927d9",
       "IPY_MODEL_fae41aec851f4bf2a77f5da3984d8c6d"
      ]
     }
    },
    "b702295801da42609a7570d27297f595": {
     "model_module": "@jupyter-widgets/base",
     "model_name": "LayoutModel",
     "model_module_version": "1.2.0",
     "state": {
      "_view_name": "LayoutView",
      "grid_template_rows": null,
      "right": null,
      "justify_content": null,
      "_view_module": "@jupyter-widgets/base",
      "overflow": null,
      "_model_module_version": "1.2.0",
      "_view_count": null,
      "flex_flow": null,
      "width": null,
      "min_width": null,
      "border": null,
      "align_items": null,
      "bottom": null,
      "_model_module": "@jupyter-widgets/base",
      "top": null,
      "grid_column": null,
      "overflow_y": null,
      "overflow_x": null,
      "grid_auto_flow": null,
      "grid_area": null,
      "grid_template_columns": null,
      "flex": null,
      "_model_name": "LayoutModel",
      "justify_items": null,
      "grid_row": null,
      "max_height": null,
      "align_content": null,
      "visibility": null,
      "align_self": null,
      "height": null,
      "min_height": null,
      "padding": null,
      "grid_auto_rows": null,
      "grid_gap": null,
      "max_width": null,
      "order": null,
      "_view_module_version": "1.2.0",
      "grid_template_areas": null,
      "object_position": null,
      "object_fit": null,
      "grid_auto_columns": null,
      "margin": null,
      "display": null,
      "left": null
     }
    },
    "8b45b2e804a245619ec662142121f0cc": {
     "model_module": "@jupyter-widgets/controls",
     "model_name": "HTMLModel",
     "model_module_version": "1.5.0",
     "state": {
      "_view_name": "HTMLView",
      "style": "IPY_MODEL_272e322ebe1148d08cc54858dc31c518",
      "_dom_classes": [],
      "description": "",
      "_model_name": "HTMLModel",
      "placeholder": "​",
      "_view_module": "@jupyter-widgets/controls",
      "_model_module_version": "1.5.0",
      "value": "",
      "_view_count": null,
      "_view_module_version": "1.5.0",
      "description_tooltip": null,
      "_model_module": "@jupyter-widgets/controls",
      "layout": "IPY_MODEL_1054fcf2922b437f8542cf849c1d669e"
     }
    },
    "63cb895243f74507a9c5542e618927d9": {
     "model_module": "@jupyter-widgets/controls",
     "model_name": "FloatProgressModel",
     "model_module_version": "1.5.0",
     "state": {
      "_view_name": "ProgressView",
      "style": "IPY_MODEL_f5edb800ebab4213b65d352497ec09c8",
      "_dom_classes": [],
      "description": "",
      "_model_name": "FloatProgressModel",
      "bar_style": "success",
      "max": 28881,
      "_view_module": "@jupyter-widgets/controls",
      "_model_module_version": "1.5.0",
      "value": 28881,
      "_view_count": null,
      "_view_module_version": "1.5.0",
      "orientation": "horizontal",
      "min": 0,
      "description_tooltip": null,
      "_model_module": "@jupyter-widgets/controls",
      "layout": "IPY_MODEL_52ea5b700d254e24abaf20b4fdc57ea5"
     }
    },
    "fae41aec851f4bf2a77f5da3984d8c6d": {
     "model_module": "@jupyter-widgets/controls",
     "model_name": "HTMLModel",
     "model_module_version": "1.5.0",
     "state": {
      "_view_name": "HTMLView",
      "style": "IPY_MODEL_ec77a4be7b3b4ecba1689dc07169e019",
      "_dom_classes": [],
      "description": "",
      "_model_name": "HTMLModel",
      "placeholder": "​",
      "_view_module": "@jupyter-widgets/controls",
      "_model_module_version": "1.5.0",
      "value": " 29696/? [00:00&lt;00:00, 806326.44it/s]",
      "_view_count": null,
      "_view_module_version": "1.5.0",
      "description_tooltip": null,
      "_model_module": "@jupyter-widgets/controls",
      "layout": "IPY_MODEL_8582830f85c8484a93b0444929fc365c"
     }
    },
    "272e322ebe1148d08cc54858dc31c518": {
     "model_module": "@jupyter-widgets/controls",
     "model_name": "DescriptionStyleModel",
     "model_module_version": "1.5.0",
     "state": {
      "_view_name": "StyleView",
      "_model_name": "DescriptionStyleModel",
      "description_width": "",
      "_view_module": "@jupyter-widgets/base",
      "_model_module_version": "1.5.0",
      "_view_count": null,
      "_view_module_version": "1.2.0",
      "_model_module": "@jupyter-widgets/controls"
     }
    },
    "1054fcf2922b437f8542cf849c1d669e": {
     "model_module": "@jupyter-widgets/base",
     "model_name": "LayoutModel",
     "model_module_version": "1.2.0",
     "state": {
      "_view_name": "LayoutView",
      "grid_template_rows": null,
      "right": null,
      "justify_content": null,
      "_view_module": "@jupyter-widgets/base",
      "overflow": null,
      "_model_module_version": "1.2.0",
      "_view_count": null,
      "flex_flow": null,
      "width": null,
      "min_width": null,
      "border": null,
      "align_items": null,
      "bottom": null,
      "_model_module": "@jupyter-widgets/base",
      "top": null,
      "grid_column": null,
      "overflow_y": null,
      "overflow_x": null,
      "grid_auto_flow": null,
      "grid_area": null,
      "grid_template_columns": null,
      "flex": null,
      "_model_name": "LayoutModel",
      "justify_items": null,
      "grid_row": null,
      "max_height": null,
      "align_content": null,
      "visibility": null,
      "align_self": null,
      "height": null,
      "min_height": null,
      "padding": null,
      "grid_auto_rows": null,
      "grid_gap": null,
      "max_width": null,
      "order": null,
      "_view_module_version": "1.2.0",
      "grid_template_areas": null,
      "object_position": null,
      "object_fit": null,
      "grid_auto_columns": null,
      "margin": null,
      "display": null,
      "left": null
     }
    },
    "f5edb800ebab4213b65d352497ec09c8": {
     "model_module": "@jupyter-widgets/controls",
     "model_name": "ProgressStyleModel",
     "model_module_version": "1.5.0",
     "state": {
      "_view_name": "StyleView",
      "_model_name": "ProgressStyleModel",
      "description_width": "",
      "_view_module": "@jupyter-widgets/base",
      "_model_module_version": "1.5.0",
      "_view_count": null,
      "_view_module_version": "1.2.0",
      "bar_color": null,
      "_model_module": "@jupyter-widgets/controls"
     }
    },
    "52ea5b700d254e24abaf20b4fdc57ea5": {
     "model_module": "@jupyter-widgets/base",
     "model_name": "LayoutModel",
     "model_module_version": "1.2.0",
     "state": {
      "_view_name": "LayoutView",
      "grid_template_rows": null,
      "right": null,
      "justify_content": null,
      "_view_module": "@jupyter-widgets/base",
      "overflow": null,
      "_model_module_version": "1.2.0",
      "_view_count": null,
      "flex_flow": null,
      "width": null,
      "min_width": null,
      "border": null,
      "align_items": null,
      "bottom": null,
      "_model_module": "@jupyter-widgets/base",
      "top": null,
      "grid_column": null,
      "overflow_y": null,
      "overflow_x": null,
      "grid_auto_flow": null,
      "grid_area": null,
      "grid_template_columns": null,
      "flex": null,
      "_model_name": "LayoutModel",
      "justify_items": null,
      "grid_row": null,
      "max_height": null,
      "align_content": null,
      "visibility": null,
      "align_self": null,
      "height": null,
      "min_height": null,
      "padding": null,
      "grid_auto_rows": null,
      "grid_gap": null,
      "max_width": null,
      "order": null,
      "_view_module_version": "1.2.0",
      "grid_template_areas": null,
      "object_position": null,
      "object_fit": null,
      "grid_auto_columns": null,
      "margin": null,
      "display": null,
      "left": null
     }
    },
    "ec77a4be7b3b4ecba1689dc07169e019": {
     "model_module": "@jupyter-widgets/controls",
     "model_name": "DescriptionStyleModel",
     "model_module_version": "1.5.0",
     "state": {
      "_view_name": "StyleView",
      "_model_name": "DescriptionStyleModel",
      "description_width": "",
      "_view_module": "@jupyter-widgets/base",
      "_model_module_version": "1.5.0",
      "_view_count": null,
      "_view_module_version": "1.2.0",
      "_model_module": "@jupyter-widgets/controls"
     }
    },
    "8582830f85c8484a93b0444929fc365c": {
     "model_module": "@jupyter-widgets/base",
     "model_name": "LayoutModel",
     "model_module_version": "1.2.0",
     "state": {
      "_view_name": "LayoutView",
      "grid_template_rows": null,
      "right": null,
      "justify_content": null,
      "_view_module": "@jupyter-widgets/base",
      "overflow": null,
      "_model_module_version": "1.2.0",
      "_view_count": null,
      "flex_flow": null,
      "width": null,
      "min_width": null,
      "border": null,
      "align_items": null,
      "bottom": null,
      "_model_module": "@jupyter-widgets/base",
      "top": null,
      "grid_column": null,
      "overflow_y": null,
      "overflow_x": null,
      "grid_auto_flow": null,
      "grid_area": null,
      "grid_template_columns": null,
      "flex": null,
      "_model_name": "LayoutModel",
      "justify_items": null,
      "grid_row": null,
      "max_height": null,
      "align_content": null,
      "visibility": null,
      "align_self": null,
      "height": null,
      "min_height": null,
      "padding": null,
      "grid_auto_rows": null,
      "grid_gap": null,
      "max_width": null,
      "order": null,
      "_view_module_version": "1.2.0",
      "grid_template_areas": null,
      "object_position": null,
      "object_fit": null,
      "grid_auto_columns": null,
      "margin": null,
      "display": null,
      "left": null
     }
    },
    "e54977c23ae445ac8e97f454fdbe3d60": {
     "model_module": "@jupyter-widgets/controls",
     "model_name": "HBoxModel",
     "model_module_version": "1.5.0",
     "state": {
      "_view_name": "HBoxView",
      "_dom_classes": [],
      "_model_name": "HBoxModel",
      "_view_module": "@jupyter-widgets/controls",
      "_model_module_version": "1.5.0",
      "_view_count": null,
      "_view_module_version": "1.5.0",
      "box_style": "",
      "layout": "IPY_MODEL_1598ec9e14ef4d57b9c56130176e0f8b",
      "_model_module": "@jupyter-widgets/controls",
      "children": [
       "IPY_MODEL_0ad9fd11fce1491ab4b37d2d96b73a4d",
       "IPY_MODEL_a5ecd4059dfb4be5989c8c3be73127c3",
       "IPY_MODEL_363707353bfa41cda17db9638d77030f"
      ]
     }
    },
    "1598ec9e14ef4d57b9c56130176e0f8b": {
     "model_module": "@jupyter-widgets/base",
     "model_name": "LayoutModel",
     "model_module_version": "1.2.0",
     "state": {
      "_view_name": "LayoutView",
      "grid_template_rows": null,
      "right": null,
      "justify_content": null,
      "_view_module": "@jupyter-widgets/base",
      "overflow": null,
      "_model_module_version": "1.2.0",
      "_view_count": null,
      "flex_flow": null,
      "width": null,
      "min_width": null,
      "border": null,
      "align_items": null,
      "bottom": null,
      "_model_module": "@jupyter-widgets/base",
      "top": null,
      "grid_column": null,
      "overflow_y": null,
      "overflow_x": null,
      "grid_auto_flow": null,
      "grid_area": null,
      "grid_template_columns": null,
      "flex": null,
      "_model_name": "LayoutModel",
      "justify_items": null,
      "grid_row": null,
      "max_height": null,
      "align_content": null,
      "visibility": null,
      "align_self": null,
      "height": null,
      "min_height": null,
      "padding": null,
      "grid_auto_rows": null,
      "grid_gap": null,
      "max_width": null,
      "order": null,
      "_view_module_version": "1.2.0",
      "grid_template_areas": null,
      "object_position": null,
      "object_fit": null,
      "grid_auto_columns": null,
      "margin": null,
      "display": null,
      "left": null
     }
    },
    "0ad9fd11fce1491ab4b37d2d96b73a4d": {
     "model_module": "@jupyter-widgets/controls",
     "model_name": "HTMLModel",
     "model_module_version": "1.5.0",
     "state": {
      "_view_name": "HTMLView",
      "style": "IPY_MODEL_fa7d4872de7e40fd940824255af1291f",
      "_dom_classes": [],
      "description": "",
      "_model_name": "HTMLModel",
      "placeholder": "​",
      "_view_module": "@jupyter-widgets/controls",
      "_model_module_version": "1.5.0",
      "value": "",
      "_view_count": null,
      "_view_module_version": "1.5.0",
      "description_tooltip": null,
      "_model_module": "@jupyter-widgets/controls",
      "layout": "IPY_MODEL_d35e3912d4654fe883c3207731e205f6"
     }
    },
    "a5ecd4059dfb4be5989c8c3be73127c3": {
     "model_module": "@jupyter-widgets/controls",
     "model_name": "FloatProgressModel",
     "model_module_version": "1.5.0",
     "state": {
      "_view_name": "ProgressView",
      "style": "IPY_MODEL_5f80479f2f904dba9dc838b8c3dc879e",
      "_dom_classes": [],
      "description": "",
      "_model_name": "FloatProgressModel",
      "bar_style": "success",
      "max": 1648877,
      "_view_module": "@jupyter-widgets/controls",
      "_model_module_version": "1.5.0",
      "value": 1648877,
      "_view_count": null,
      "_view_module_version": "1.5.0",
      "orientation": "horizontal",
      "min": 0,
      "description_tooltip": null,
      "_model_module": "@jupyter-widgets/controls",
      "layout": "IPY_MODEL_141128bd4ad9454fb8f57fd518c48365"
     }
    },
    "363707353bfa41cda17db9638d77030f": {
     "model_module": "@jupyter-widgets/controls",
     "model_name": "HTMLModel",
     "model_module_version": "1.5.0",
     "state": {
      "_view_name": "HTMLView",
      "style": "IPY_MODEL_b1bff63d99a446ee8cb9151e554de2d6",
      "_dom_classes": [],
      "description": "",
      "_model_name": "HTMLModel",
      "placeholder": "​",
      "_view_module": "@jupyter-widgets/controls",
      "_model_module_version": "1.5.0",
      "value": " 1649664/? [00:00&lt;00:00, 18862533.64it/s]",
      "_view_count": null,
      "_view_module_version": "1.5.0",
      "description_tooltip": null,
      "_model_module": "@jupyter-widgets/controls",
      "layout": "IPY_MODEL_5427167d00624d77a69072812f170477"
     }
    },
    "fa7d4872de7e40fd940824255af1291f": {
     "model_module": "@jupyter-widgets/controls",
     "model_name": "DescriptionStyleModel",
     "model_module_version": "1.5.0",
     "state": {
      "_view_name": "StyleView",
      "_model_name": "DescriptionStyleModel",
      "description_width": "",
      "_view_module": "@jupyter-widgets/base",
      "_model_module_version": "1.5.0",
      "_view_count": null,
      "_view_module_version": "1.2.0",
      "_model_module": "@jupyter-widgets/controls"
     }
    },
    "d35e3912d4654fe883c3207731e205f6": {
     "model_module": "@jupyter-widgets/base",
     "model_name": "LayoutModel",
     "model_module_version": "1.2.0",
     "state": {
      "_view_name": "LayoutView",
      "grid_template_rows": null,
      "right": null,
      "justify_content": null,
      "_view_module": "@jupyter-widgets/base",
      "overflow": null,
      "_model_module_version": "1.2.0",
      "_view_count": null,
      "flex_flow": null,
      "width": null,
      "min_width": null,
      "border": null,
      "align_items": null,
      "bottom": null,
      "_model_module": "@jupyter-widgets/base",
      "top": null,
      "grid_column": null,
      "overflow_y": null,
      "overflow_x": null,
      "grid_auto_flow": null,
      "grid_area": null,
      "grid_template_columns": null,
      "flex": null,
      "_model_name": "LayoutModel",
      "justify_items": null,
      "grid_row": null,
      "max_height": null,
      "align_content": null,
      "visibility": null,
      "align_self": null,
      "height": null,
      "min_height": null,
      "padding": null,
      "grid_auto_rows": null,
      "grid_gap": null,
      "max_width": null,
      "order": null,
      "_view_module_version": "1.2.0",
      "grid_template_areas": null,
      "object_position": null,
      "object_fit": null,
      "grid_auto_columns": null,
      "margin": null,
      "display": null,
      "left": null
     }
    },
    "5f80479f2f904dba9dc838b8c3dc879e": {
     "model_module": "@jupyter-widgets/controls",
     "model_name": "ProgressStyleModel",
     "model_module_version": "1.5.0",
     "state": {
      "_view_name": "StyleView",
      "_model_name": "ProgressStyleModel",
      "description_width": "",
      "_view_module": "@jupyter-widgets/base",
      "_model_module_version": "1.5.0",
      "_view_count": null,
      "_view_module_version": "1.2.0",
      "bar_color": null,
      "_model_module": "@jupyter-widgets/controls"
     }
    },
    "141128bd4ad9454fb8f57fd518c48365": {
     "model_module": "@jupyter-widgets/base",
     "model_name": "LayoutModel",
     "model_module_version": "1.2.0",
     "state": {
      "_view_name": "LayoutView",
      "grid_template_rows": null,
      "right": null,
      "justify_content": null,
      "_view_module": "@jupyter-widgets/base",
      "overflow": null,
      "_model_module_version": "1.2.0",
      "_view_count": null,
      "flex_flow": null,
      "width": null,
      "min_width": null,
      "border": null,
      "align_items": null,
      "bottom": null,
      "_model_module": "@jupyter-widgets/base",
      "top": null,
      "grid_column": null,
      "overflow_y": null,
      "overflow_x": null,
      "grid_auto_flow": null,
      "grid_area": null,
      "grid_template_columns": null,
      "flex": null,
      "_model_name": "LayoutModel",
      "justify_items": null,
      "grid_row": null,
      "max_height": null,
      "align_content": null,
      "visibility": null,
      "align_self": null,
      "height": null,
      "min_height": null,
      "padding": null,
      "grid_auto_rows": null,
      "grid_gap": null,
      "max_width": null,
      "order": null,
      "_view_module_version": "1.2.0",
      "grid_template_areas": null,
      "object_position": null,
      "object_fit": null,
      "grid_auto_columns": null,
      "margin": null,
      "display": null,
      "left": null
     }
    },
    "b1bff63d99a446ee8cb9151e554de2d6": {
     "model_module": "@jupyter-widgets/controls",
     "model_name": "DescriptionStyleModel",
     "model_module_version": "1.5.0",
     "state": {
      "_view_name": "StyleView",
      "_model_name": "DescriptionStyleModel",
      "description_width": "",
      "_view_module": "@jupyter-widgets/base",
      "_model_module_version": "1.5.0",
      "_view_count": null,
      "_view_module_version": "1.2.0",
      "_model_module": "@jupyter-widgets/controls"
     }
    },
    "5427167d00624d77a69072812f170477": {
     "model_module": "@jupyter-widgets/base",
     "model_name": "LayoutModel",
     "model_module_version": "1.2.0",
     "state": {
      "_view_name": "LayoutView",
      "grid_template_rows": null,
      "right": null,
      "justify_content": null,
      "_view_module": "@jupyter-widgets/base",
      "overflow": null,
      "_model_module_version": "1.2.0",
      "_view_count": null,
      "flex_flow": null,
      "width": null,
      "min_width": null,
      "border": null,
      "align_items": null,
      "bottom": null,
      "_model_module": "@jupyter-widgets/base",
      "top": null,
      "grid_column": null,
      "overflow_y": null,
      "overflow_x": null,
      "grid_auto_flow": null,
      "grid_area": null,
      "grid_template_columns": null,
      "flex": null,
      "_model_name": "LayoutModel",
      "justify_items": null,
      "grid_row": null,
      "max_height": null,
      "align_content": null,
      "visibility": null,
      "align_self": null,
      "height": null,
      "min_height": null,
      "padding": null,
      "grid_auto_rows": null,
      "grid_gap": null,
      "max_width": null,
      "order": null,
      "_view_module_version": "1.2.0",
      "grid_template_areas": null,
      "object_position": null,
      "object_fit": null,
      "grid_auto_columns": null,
      "margin": null,
      "display": null,
      "left": null
     }
    },
    "f65ba702effc46709d7872f0af298a00": {
     "model_module": "@jupyter-widgets/controls",
     "model_name": "HBoxModel",
     "model_module_version": "1.5.0",
     "state": {
      "_view_name": "HBoxView",
      "_dom_classes": [],
      "_model_name": "HBoxModel",
      "_view_module": "@jupyter-widgets/controls",
      "_model_module_version": "1.5.0",
      "_view_count": null,
      "_view_module_version": "1.5.0",
      "box_style": "",
      "layout": "IPY_MODEL_44e44a7faeab41558bb3f8ab46d4d0cf",
      "_model_module": "@jupyter-widgets/controls",
      "children": [
       "IPY_MODEL_6dd28837e92c4f59a4c7599eeb9d5389",
       "IPY_MODEL_ed7dbe60f67c45919de6d779aa932340",
       "IPY_MODEL_41cfaf0b429941e5a110d8bcc9aa4803"
      ]
     }
    },
    "44e44a7faeab41558bb3f8ab46d4d0cf": {
     "model_module": "@jupyter-widgets/base",
     "model_name": "LayoutModel",
     "model_module_version": "1.2.0",
     "state": {
      "_view_name": "LayoutView",
      "grid_template_rows": null,
      "right": null,
      "justify_content": null,
      "_view_module": "@jupyter-widgets/base",
      "overflow": null,
      "_model_module_version": "1.2.0",
      "_view_count": null,
      "flex_flow": null,
      "width": null,
      "min_width": null,
      "border": null,
      "align_items": null,
      "bottom": null,
      "_model_module": "@jupyter-widgets/base",
      "top": null,
      "grid_column": null,
      "overflow_y": null,
      "overflow_x": null,
      "grid_auto_flow": null,
      "grid_area": null,
      "grid_template_columns": null,
      "flex": null,
      "_model_name": "LayoutModel",
      "justify_items": null,
      "grid_row": null,
      "max_height": null,
      "align_content": null,
      "visibility": null,
      "align_self": null,
      "height": null,
      "min_height": null,
      "padding": null,
      "grid_auto_rows": null,
      "grid_gap": null,
      "max_width": null,
      "order": null,
      "_view_module_version": "1.2.0",
      "grid_template_areas": null,
      "object_position": null,
      "object_fit": null,
      "grid_auto_columns": null,
      "margin": null,
      "display": null,
      "left": null
     }
    },
    "6dd28837e92c4f59a4c7599eeb9d5389": {
     "model_module": "@jupyter-widgets/controls",
     "model_name": "HTMLModel",
     "model_module_version": "1.5.0",
     "state": {
      "_view_name": "HTMLView",
      "style": "IPY_MODEL_29322a5cb80549a4964c4551c8a76e84",
      "_dom_classes": [],
      "description": "",
      "_model_name": "HTMLModel",
      "placeholder": "​",
      "_view_module": "@jupyter-widgets/controls",
      "_model_module_version": "1.5.0",
      "value": "",
      "_view_count": null,
      "_view_module_version": "1.5.0",
      "description_tooltip": null,
      "_model_module": "@jupyter-widgets/controls",
      "layout": "IPY_MODEL_d1fc73614f664eada82e0de34356a3bf"
     }
    },
    "ed7dbe60f67c45919de6d779aa932340": {
     "model_module": "@jupyter-widgets/controls",
     "model_name": "FloatProgressModel",
     "model_module_version": "1.5.0",
     "state": {
      "_view_name": "ProgressView",
      "style": "IPY_MODEL_c0fd06d560ef4125b76b661cd003ec9f",
      "_dom_classes": [],
      "description": "",
      "_model_name": "FloatProgressModel",
      "bar_style": "success",
      "max": 4542,
      "_view_module": "@jupyter-widgets/controls",
      "_model_module_version": "1.5.0",
      "value": 4542,
      "_view_count": null,
      "_view_module_version": "1.5.0",
      "orientation": "horizontal",
      "min": 0,
      "description_tooltip": null,
      "_model_module": "@jupyter-widgets/controls",
      "layout": "IPY_MODEL_cd26d50117ca43729d84e94d838a2309"
     }
    },
    "41cfaf0b429941e5a110d8bcc9aa4803": {
     "model_module": "@jupyter-widgets/controls",
     "model_name": "HTMLModel",
     "model_module_version": "1.5.0",
     "state": {
      "_view_name": "HTMLView",
      "style": "IPY_MODEL_350b75bcfb8045da84ccd234b7ccd7cc",
      "_dom_classes": [],
      "description": "",
      "_model_name": "HTMLModel",
      "placeholder": "​",
      "_view_module": "@jupyter-widgets/controls",
      "_model_module_version": "1.5.0",
      "value": " 5120/? [00:00&lt;00:00, 136875.68it/s]",
      "_view_count": null,
      "_view_module_version": "1.5.0",
      "description_tooltip": null,
      "_model_module": "@jupyter-widgets/controls",
      "layout": "IPY_MODEL_aa2b9ab36fbc402ca131eb8bbfd82070"
     }
    },
    "29322a5cb80549a4964c4551c8a76e84": {
     "model_module": "@jupyter-widgets/controls",
     "model_name": "DescriptionStyleModel",
     "model_module_version": "1.5.0",
     "state": {
      "_view_name": "StyleView",
      "_model_name": "DescriptionStyleModel",
      "description_width": "",
      "_view_module": "@jupyter-widgets/base",
      "_model_module_version": "1.5.0",
      "_view_count": null,
      "_view_module_version": "1.2.0",
      "_model_module": "@jupyter-widgets/controls"
     }
    },
    "d1fc73614f664eada82e0de34356a3bf": {
     "model_module": "@jupyter-widgets/base",
     "model_name": "LayoutModel",
     "model_module_version": "1.2.0",
     "state": {
      "_view_name": "LayoutView",
      "grid_template_rows": null,
      "right": null,
      "justify_content": null,
      "_view_module": "@jupyter-widgets/base",
      "overflow": null,
      "_model_module_version": "1.2.0",
      "_view_count": null,
      "flex_flow": null,
      "width": null,
      "min_width": null,
      "border": null,
      "align_items": null,
      "bottom": null,
      "_model_module": "@jupyter-widgets/base",
      "top": null,
      "grid_column": null,
      "overflow_y": null,
      "overflow_x": null,
      "grid_auto_flow": null,
      "grid_area": null,
      "grid_template_columns": null,
      "flex": null,
      "_model_name": "LayoutModel",
      "justify_items": null,
      "grid_row": null,
      "max_height": null,
      "align_content": null,
      "visibility": null,
      "align_self": null,
      "height": null,
      "min_height": null,
      "padding": null,
      "grid_auto_rows": null,
      "grid_gap": null,
      "max_width": null,
      "order": null,
      "_view_module_version": "1.2.0",
      "grid_template_areas": null,
      "object_position": null,
      "object_fit": null,
      "grid_auto_columns": null,
      "margin": null,
      "display": null,
      "left": null
     }
    },
    "c0fd06d560ef4125b76b661cd003ec9f": {
     "model_module": "@jupyter-widgets/controls",
     "model_name": "ProgressStyleModel",
     "model_module_version": "1.5.0",
     "state": {
      "_view_name": "StyleView",
      "_model_name": "ProgressStyleModel",
      "description_width": "",
      "_view_module": "@jupyter-widgets/base",
      "_model_module_version": "1.5.0",
      "_view_count": null,
      "_view_module_version": "1.2.0",
      "bar_color": null,
      "_model_module": "@jupyter-widgets/controls"
     }
    },
    "cd26d50117ca43729d84e94d838a2309": {
     "model_module": "@jupyter-widgets/base",
     "model_name": "LayoutModel",
     "model_module_version": "1.2.0",
     "state": {
      "_view_name": "LayoutView",
      "grid_template_rows": null,
      "right": null,
      "justify_content": null,
      "_view_module": "@jupyter-widgets/base",
      "overflow": null,
      "_model_module_version": "1.2.0",
      "_view_count": null,
      "flex_flow": null,
      "width": null,
      "min_width": null,
      "border": null,
      "align_items": null,
      "bottom": null,
      "_model_module": "@jupyter-widgets/base",
      "top": null,
      "grid_column": null,
      "overflow_y": null,
      "overflow_x": null,
      "grid_auto_flow": null,
      "grid_area": null,
      "grid_template_columns": null,
      "flex": null,
      "_model_name": "LayoutModel",
      "justify_items": null,
      "grid_row": null,
      "max_height": null,
      "align_content": null,
      "visibility": null,
      "align_self": null,
      "height": null,
      "min_height": null,
      "padding": null,
      "grid_auto_rows": null,
      "grid_gap": null,
      "max_width": null,
      "order": null,
      "_view_module_version": "1.2.0",
      "grid_template_areas": null,
      "object_position": null,
      "object_fit": null,
      "grid_auto_columns": null,
      "margin": null,
      "display": null,
      "left": null
     }
    },
    "350b75bcfb8045da84ccd234b7ccd7cc": {
     "model_module": "@jupyter-widgets/controls",
     "model_name": "DescriptionStyleModel",
     "model_module_version": "1.5.0",
     "state": {
      "_view_name": "StyleView",
      "_model_name": "DescriptionStyleModel",
      "description_width": "",
      "_view_module": "@jupyter-widgets/base",
      "_model_module_version": "1.5.0",
      "_view_count": null,
      "_view_module_version": "1.2.0",
      "_model_module": "@jupyter-widgets/controls"
     }
    },
    "aa2b9ab36fbc402ca131eb8bbfd82070": {
     "model_module": "@jupyter-widgets/base",
     "model_name": "LayoutModel",
     "model_module_version": "1.2.0",
     "state": {
      "_view_name": "LayoutView",
      "grid_template_rows": null,
      "right": null,
      "justify_content": null,
      "_view_module": "@jupyter-widgets/base",
      "overflow": null,
      "_model_module_version": "1.2.0",
      "_view_count": null,
      "flex_flow": null,
      "width": null,
      "min_width": null,
      "border": null,
      "align_items": null,
      "bottom": null,
      "_model_module": "@jupyter-widgets/base",
      "top": null,
      "grid_column": null,
      "overflow_y": null,
      "overflow_x": null,
      "grid_auto_flow": null,
      "grid_area": null,
      "grid_template_columns": null,
      "flex": null,
      "_model_name": "LayoutModel",
      "justify_items": null,
      "grid_row": null,
      "max_height": null,
      "align_content": null,
      "visibility": null,
      "align_self": null,
      "height": null,
      "min_height": null,
      "padding": null,
      "grid_auto_rows": null,
      "grid_gap": null,
      "max_width": null,
      "order": null,
      "_view_module_version": "1.2.0",
      "grid_template_areas": null,
      "object_position": null,
      "object_fit": null,
      "grid_auto_columns": null,
      "margin": null,
      "display": null,
      "left": null
     }
    }
   }
  }
 },
 "cells": [
  {
   "cell_type": "markdown",
   "metadata": {
    "id": "view-in-github",
    "colab_type": "text",
    "pycharm": {
     "name": "#%% md\n"
    }
   },
   "source": [
    "<a href=\"https://colab.research.google.com/github/ivangtorre/Curso_CRIDA_2022/blob/main/CRIDA_2022_Ejercicio_3_1.ipynb\" target=\"_parent\"><img src=\"https://colab.research.google.com/assets/colab-badge.svg\" alt=\"Open In Colab\"/></a>"
   ]
  },
  {
   "cell_type": "markdown",
   "source": [
    "## MNIST Classification using Deep Neural Network with Pytorch and with a Fully Connected layer\n",
    "\n",
    "<a title=\"By Josef Steppan [CC BY-SA 4.0 (https://creativecommons.org/licenses/by-sa/4.0)], from Wikimedia Commons\" href=\"https://commons.wikimedia.org/wiki/File:MnistExamples.png\"><img width=\"512\" alt=\"MnistExamples\" src=\"https://upload.wikimedia.org/wikipedia/commons/2/27/MnistExamples.png\"/></a>\n"
   ],
   "metadata": {
    "id": "pnIb9xUM7BDb",
    "pycharm": {
     "name": "#%% md\n"
    }
   }
  },
  {
   "metadata": {
    "id": "PtKvmZx-WmUu",
    "colab": {
     "base_uri": "https://localhost:8080/"
    },
    "outputId": "3ae3e4e6-7db7-43ec-c0d2-0f64ee612cd2",
    "pycharm": {
     "name": "#%%\n"
    }
   },
   "cell_type": "code",
   "source": [
    "# First install Pytorch\n",
    "!pip install torch\n",
    "!pip install torchvision"
   ],
   "execution_count": null,
   "outputs": [
    {
     "output_type": "stream",
     "name": "stdout",
     "text": [
      "Requirement already satisfied: torch in /usr/local/lib/python3.7/dist-packages (1.10.0+cu111)\n",
      "Requirement already satisfied: typing-extensions in /usr/local/lib/python3.7/dist-packages (from torch) (3.10.0.2)\n",
      "Requirement already satisfied: torchvision in /usr/local/lib/python3.7/dist-packages (0.11.1+cu111)\n",
      "Requirement already satisfied: torch==1.10.0 in /usr/local/lib/python3.7/dist-packages (from torchvision) (1.10.0+cu111)\n",
      "Requirement already satisfied: numpy in /usr/local/lib/python3.7/dist-packages (from torchvision) (1.19.5)\n",
      "Requirement already satisfied: pillow!=8.3.0,>=5.3.0 in /usr/local/lib/python3.7/dist-packages (from torchvision) (7.1.2)\n",
      "Requirement already satisfied: typing-extensions in /usr/local/lib/python3.7/dist-packages (from torch==1.10.0->torchvision) (3.10.0.2)\n"
     ]
    }
   ]
  },
  {
   "metadata": {
    "id": "bGU6NwlsXFSt",
    "pycharm": {
     "name": "#%%\n"
    }
   },
   "cell_type": "code",
   "source": [
    "# Import libraries\n",
    "import torch\n",
    "import torch.nn as nn\n",
    "import torchvision.datasets as dsets\n",
    "import torchvision.transforms as transforms\n",
    "from torch.autograd import Variable\n",
    "import matplotlib.pyplot as plt"
   ],
   "execution_count": null,
   "outputs": []
  },
  {
   "cell_type": "markdown",
   "source": [
    "## MNIST Dataset\n",
    "The MNIST database of handwritten digits, available from this page, has a training set of 60,000 examples, and a test set of 10,000 examples. It is a subset of a larger set available from NIST. The digits have been size-normalized and centered in a fixed-size image.\n",
    "It is a good database for people who want to try learning techniques and pattern recognition methods on real-world data while spending minimal efforts on preprocessing and formatting.\n",
    "\n"
   ],
   "metadata": {
    "id": "zzJlPBFs7d1i",
    "pycharm": {
     "name": "#%% md\n"
    }
   }
  },
  {
   "metadata": {
    "id": "lCsBCXMwbpH5",
    "colab": {
     "base_uri": "https://localhost:8080/",
     "height": 437,
     "referenced_widgets": [
      "b8bbd64d22754138bc7289cf775a73c2",
      "575b9cc6d04143268c1f66275da50e51",
      "f522baca36004497bc09abe77f8be10e",
      "46495a108f56491f84f66b0d0375e6d8",
      "ef338b77f44143ac99383e94d76ba47a",
      "5a88850eb0814cf1a12a73492b58d9bb",
      "8f8d1c51cb10449da0bf4744af8fe65f",
      "a24155393ddd46d6a531e0ea766fc45d",
      "80bf41e10e9b4fb982abcbc4e674406c",
      "5d4c7dc299424f83a5d2fb6062929a8a",
      "9759647adba34de8a9fabae8e1a7882b",
      "91225832b9b44257b7905485d0b5d7c5",
      "b702295801da42609a7570d27297f595",
      "8b45b2e804a245619ec662142121f0cc",
      "63cb895243f74507a9c5542e618927d9",
      "fae41aec851f4bf2a77f5da3984d8c6d",
      "272e322ebe1148d08cc54858dc31c518",
      "1054fcf2922b437f8542cf849c1d669e",
      "f5edb800ebab4213b65d352497ec09c8",
      "52ea5b700d254e24abaf20b4fdc57ea5",
      "ec77a4be7b3b4ecba1689dc07169e019",
      "8582830f85c8484a93b0444929fc365c",
      "e54977c23ae445ac8e97f454fdbe3d60",
      "1598ec9e14ef4d57b9c56130176e0f8b",
      "0ad9fd11fce1491ab4b37d2d96b73a4d",
      "a5ecd4059dfb4be5989c8c3be73127c3",
      "363707353bfa41cda17db9638d77030f",
      "fa7d4872de7e40fd940824255af1291f",
      "d35e3912d4654fe883c3207731e205f6",
      "5f80479f2f904dba9dc838b8c3dc879e",
      "141128bd4ad9454fb8f57fd518c48365",
      "b1bff63d99a446ee8cb9151e554de2d6",
      "5427167d00624d77a69072812f170477",
      "f65ba702effc46709d7872f0af298a00",
      "44e44a7faeab41558bb3f8ab46d4d0cf",
      "6dd28837e92c4f59a4c7599eeb9d5389",
      "ed7dbe60f67c45919de6d779aa932340",
      "41cfaf0b429941e5a110d8bcc9aa4803",
      "29322a5cb80549a4964c4551c8a76e84",
      "d1fc73614f664eada82e0de34356a3bf",
      "c0fd06d560ef4125b76b661cd003ec9f",
      "cd26d50117ca43729d84e94d838a2309",
      "350b75bcfb8045da84ccd234b7ccd7cc",
      "aa2b9ab36fbc402ca131eb8bbfd82070"
     ]
    },
    "outputId": "3176ef00-2f2e-4cbf-f91a-753af5e27902",
    "pycharm": {
     "name": "#%%\n"
    }
   },
   "cell_type": "code",
   "source": [
    "train_data = dsets.MNIST(root = './data', train = True, transform = transforms.ToTensor(), download = True)\n",
    "\n",
    "test_data = dsets.MNIST(root = './data', train = False, transform = transforms.ToTensor())"
   ],
   "execution_count": null,
   "outputs": [
    {
     "output_type": "stream",
     "name": "stdout",
     "text": [
      "Downloading http://yann.lecun.com/exdb/mnist/train-images-idx3-ubyte.gz\n",
      "Downloading http://yann.lecun.com/exdb/mnist/train-images-idx3-ubyte.gz to ./data/MNIST/raw/train-images-idx3-ubyte.gz\n"
     ]
    },
    {
     "output_type": "display_data",
     "data": {
      "application/vnd.jupyter.widget-view+json": {
       "model_id": "b8bbd64d22754138bc7289cf775a73c2",
       "version_minor": 0,
       "version_major": 2
      },
      "text/plain": [
       "  0%|          | 0/9912422 [00:00<?, ?it/s]"
      ]
     },
     "metadata": {}
    },
    {
     "output_type": "stream",
     "name": "stdout",
     "text": [
      "Extracting ./data/MNIST/raw/train-images-idx3-ubyte.gz to ./data/MNIST/raw\n",
      "\n",
      "Downloading http://yann.lecun.com/exdb/mnist/train-labels-idx1-ubyte.gz\n",
      "Downloading http://yann.lecun.com/exdb/mnist/train-labels-idx1-ubyte.gz to ./data/MNIST/raw/train-labels-idx1-ubyte.gz\n"
     ]
    },
    {
     "output_type": "display_data",
     "data": {
      "application/vnd.jupyter.widget-view+json": {
       "model_id": "91225832b9b44257b7905485d0b5d7c5",
       "version_minor": 0,
       "version_major": 2
      },
      "text/plain": [
       "  0%|          | 0/28881 [00:00<?, ?it/s]"
      ]
     },
     "metadata": {}
    },
    {
     "output_type": "stream",
     "name": "stdout",
     "text": [
      "Extracting ./data/MNIST/raw/train-labels-idx1-ubyte.gz to ./data/MNIST/raw\n",
      "\n",
      "Downloading http://yann.lecun.com/exdb/mnist/t10k-images-idx3-ubyte.gz\n",
      "Downloading http://yann.lecun.com/exdb/mnist/t10k-images-idx3-ubyte.gz to ./data/MNIST/raw/t10k-images-idx3-ubyte.gz\n"
     ]
    },
    {
     "output_type": "display_data",
     "data": {
      "application/vnd.jupyter.widget-view+json": {
       "model_id": "e54977c23ae445ac8e97f454fdbe3d60",
       "version_minor": 0,
       "version_major": 2
      },
      "text/plain": [
       "  0%|          | 0/1648877 [00:00<?, ?it/s]"
      ]
     },
     "metadata": {}
    },
    {
     "output_type": "stream",
     "name": "stdout",
     "text": [
      "Extracting ./data/MNIST/raw/t10k-images-idx3-ubyte.gz to ./data/MNIST/raw\n",
      "\n",
      "Downloading http://yann.lecun.com/exdb/mnist/t10k-labels-idx1-ubyte.gz\n",
      "Downloading http://yann.lecun.com/exdb/mnist/t10k-labels-idx1-ubyte.gz to ./data/MNIST/raw/t10k-labels-idx1-ubyte.gz\n"
     ]
    },
    {
     "output_type": "display_data",
     "data": {
      "application/vnd.jupyter.widget-view+json": {
       "model_id": "f65ba702effc46709d7872f0af298a00",
       "version_minor": 0,
       "version_major": 2
      },
      "text/plain": [
       "  0%|          | 0/4542 [00:00<?, ?it/s]"
      ]
     },
     "metadata": {}
    },
    {
     "output_type": "stream",
     "name": "stdout",
     "text": [
      "Extracting ./data/MNIST/raw/t10k-labels-idx1-ubyte.gz to ./data/MNIST/raw\n",
      "\n"
     ]
    }
   ]
  },
  {
   "metadata": {
    "id": "_bNfVLRUYqZA",
    "pycharm": {
     "name": "#%%\n"
    }
   },
   "cell_type": "code",
   "source": [
    "# Define Hyperparameters\n",
    "batch_size = 100 # the size of input data took for one iteration\n",
    "input_size = 784 # img_size = (28,28) ---> 28*28=784 in total **** DO NOT MODIFY\n",
    "hidden_size = 500 # number of nodes at hidden layer\n",
    "num_classes = 10 # number of output classes discrete range [0,9] ** DO NOT MODIFY\n",
    "num_epochs = 20 # number of times which the entire dataset is passed throughout the model\n",
    "lr = 1e-3 # size of step "
   ],
   "execution_count": null,
   "outputs": []
  },
  {
   "metadata": {
    "id": "rfDPBdnYgfGp",
    "pycharm": {
     "name": "#%%\n"
    }
   },
   "cell_type": "code",
   "source": [
    "#Load the data\n",
    "train_gen = torch.utils.data.DataLoader(dataset = train_data, batch_size = batch_size, shuffle = False)\n",
    "test_gen = torch.utils.data.DataLoader(dataset = test_data, batch_size = batch_size, shuffle = False)"
   ],
   "execution_count": null,
   "outputs": []
  },
  {
   "cell_type": "markdown",
   "source": [
    "## Visualize the dataset\n",
    "When we run the code, we will get the greyscale visualization of the MNIST images"
   ],
   "metadata": {
    "id": "io5V029BFBzi",
    "pycharm": {
     "name": "#%% md\n"
    }
   }
  },
  {
   "cell_type": "code",
   "source": [
    "plt.imshow(train_data[2][0][0], cmap='gray')"
   ],
   "metadata": {
    "colab": {
     "base_uri": "https://localhost:8080/",
     "height": 284
    },
    "id": "GeEskU7EDVME",
    "outputId": "2a2c4b8e-17f1-400f-be75-10ab421122e4",
    "pycharm": {
     "name": "#%%\n"
    }
   },
   "execution_count": null,
   "outputs": [
    {
     "output_type": "execute_result",
     "data": {
      "text/plain": [
       "<matplotlib.image.AxesImage at 0x7feb957b4a10>"
      ]
     },
     "metadata": {},
     "execution_count": 55
    },
    {
     "output_type": "display_data",
     "data": {
      "image/png": "[encoded data removed]",
      "text/plain": [
       "<Figure size 432x288 with 1 Axes>"
      ]
     },
     "metadata": {
      "needs_background": "light"
     }
    }
   ]
  },
  {
   "cell_type": "code",
   "source": [
    "plt.imshow(train_data[1][0][0], cmap='gray')\n"
   ],
   "metadata": {
    "colab": {
     "base_uri": "https://localhost:8080/",
     "height": 284
    },
    "id": "pFhtNEynFdMv",
    "outputId": "78c9118c-c874-4828-e123-592f6ed12254",
    "pycharm": {
     "name": "#%%\n"
    }
   },
   "execution_count": null,
   "outputs": [
    {
     "output_type": "execute_result",
     "data": {
      "text/plain": [
       "<matplotlib.image.AxesImage at 0x7feb95714710>"
      ]
     },
     "metadata": {},
     "execution_count": 57
    },
    {
     "output_type": "display_data",
     "data": {
      "image/png": "[encoded data removed]",
      "text/plain": [
       "<Figure size 432x288 with 1 Axes>"
      ]
     },
     "metadata": {
      "needs_background": "light"
     }
    }
   ]
  },
  {
   "cell_type": "code",
   "source": [
    "plt.imshow(train_data[10][0][0], cmap='gray')\n"
   ],
   "metadata": {
    "colab": {
     "base_uri": "https://localhost:8080/",
     "height": 284
    },
    "id": "Xwk3UFORFebY",
    "outputId": "032090e9-1383-4f15-f32a-e0e34dccfc58",
    "pycharm": {
     "name": "#%%\n"
    }
   },
   "execution_count": null,
   "outputs": [
    {
     "output_type": "execute_result",
     "data": {
      "text/plain": [
       "<matplotlib.image.AxesImage at 0x7feb957320d0>"
      ]
     },
     "metadata": {},
     "execution_count": 56
    },
    {
     "output_type": "display_data",
     "data": {
      "image/png": "[encoded data removed]",
      "text/plain": [
       "<Figure size 432x288 with 1 Axes>"
      ]
     },
     "metadata": {
      "needs_background": "light"
     }
    }
   ]
  },
  {
   "cell_type": "markdown",
   "source": [
    "# DEFINING A NEURAL NETWORK IN PYTORCH\n",
    "Deep learning uses artificial neural networks (models), which are computing systems that are composed of many layers of interconnected units. By passing data through these interconnected units, a neural network is able to learn how to approximate the computations required to transform inputs into outputs. In PyTorch, neural networks can be constructed using the torch.nn package.\n",
    "\n",
    "There are two requirements for defining the Net class of your model. The first is writing an __init__ function that references nn.Module. This function is where you define the fully connected layers in your neural network.\n",
    "\n",
    "When you use PyTorch to build a model, you just have to define the forward function, that will pass the data into the computation graph (i.e. our neural network). This will represent our feed-forward algorithm.\n",
    "\n"
   ],
   "metadata": {
    "id": "HBwrQNk68fwZ",
    "pycharm": {
     "name": "#%% md\n"
    }
   }
  },
  {
   "metadata": {
    "id": "fL-YXTvghaz_",
    "pycharm": {
     "name": "#%%\n"
    }
   },
   "cell_type": "code",
   "source": [
    "# Define model class\n",
    "\n",
    "class Net(nn.Module):\n",
    "  def __init__(self, input_size, hidden_size, num_classes):\n",
    "    super(Net,self).__init__()\n",
    "    self.fc1 = nn.Linear(input_size, hidden_size)\n",
    "    self.relu = nn.ReLU()\n",
    "    self.fc2 = nn.Linear(hidden_size, num_classes)\n",
    "\n",
    "  \n",
    "  def forward(self,x):\n",
    "    out = self.fc1(x)\n",
    "    out = self.relu(out)\n",
    "    out = self.fc2(out)\n",
    "    return out"
   ],
   "execution_count": null,
   "outputs": []
  },
  {
   "cell_type": "markdown",
   "source": [
    "Our network is composed of one input layer, a hidden layer, an activatión function and output layer. ![Generic-neural-network-composed-of-three-layers_W640.jpg](data:image/jpeg;base64,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)"
   ],
   "metadata": {
    "id": "pS1QE0bG-mTo",
    "pycharm": {
     "name": "#%% md\n"
    }
   }
  },
  {
   "cell_type": "markdown",
   "source": [
    "On the following we can visualize the structure of the Deep Neural Network that we have just built."
   ],
   "metadata": {
    "id": "peIM_nC4_G0C",
    "pycharm": {
     "name": "#%% md\n"
    }
   }
  },
  {
   "cell_type": "code",
   "source": [
    "# Build the Model\n",
    "net = Net(input_size, hidden_size, num_classes)\n",
    "if torch.cuda.is_available():\n",
    "  net.cuda()\n",
    "print(net)"
   ],
   "metadata": {
    "colab": {
     "base_uri": "https://localhost:8080/"
    },
    "id": "Ri124kAZ8Ne8",
    "outputId": "f796921a-1ca7-49b6-9b22-f683c428473a",
    "pycharm": {
     "name": "#%%\n"
    }
   },
   "execution_count": null,
   "outputs": [
    {
     "output_type": "stream",
     "name": "stdout",
     "text": [
      "Net(\n",
      "  (fc1): Linear(in_features=784, out_features=500, bias=True)\n",
      "  (relu): ReLU()\n",
      "  (fc2): Linear(in_features=500, out_features=300, bias=True)\n",
      "  (relu2): ReLU()\n",
      "  (fc3): Linear(in_features=300, out_features=10, bias=True)\n",
      ")\n"
     ]
    }
   ]
  },
  {
   "metadata": {
    "id": "ePLIwvAFj2zH",
    "pycharm": {
     "name": "#%%\n"
    }
   },
   "cell_type": "code",
   "source": [
    "#Define loss-function & optimizer\n",
    "loss_function = nn.CrossEntropyLoss()\n",
    "optimizer = torch.optim.Adam( net.parameters(), lr=lr)"
   ],
   "execution_count": null,
   "outputs": []
  },
  {
   "cell_type": "markdown",
   "source": [
    "## Training the model\n",
    "It is now time to train the model. During training all images will be input into the DNN during one epoch. The objetive is to minimize a loss function (Cross Entropy) between the output and the ground truth. The errors are backpropagated and the optimizer adjust the parameters of the DNN in order to search an optimal solution. Usually the more epochs we train, the better model we will get (although overfitting could happen)"
   ],
   "metadata": {
    "id": "8PFybdLq_tYt",
    "pycharm": {
     "name": "#%% md\n"
    }
   }
  },
  {
   "metadata": {
    "id": "u75Xa5VckuTH",
    "colab": {
     "base_uri": "https://localhost:8080/"
    },
    "outputId": "3b4fb98e-b783-4a02-a5d2-a96aed7aef0e",
    "pycharm": {
     "name": "#%%\n"
    }
   },
   "cell_type": "code",
   "source": [
    "#Training the model\n",
    "\n",
    "for epoch in range(num_epochs):\n",
    "  for i ,(images,labels) in enumerate(train_gen):\n",
    "    images = Variable(images.view(-1,28*28)).cuda()\n",
    "    labels = Variable(labels).cuda()\n",
    "    \n",
    "    optimizer.zero_grad()\n",
    "    outputs = net(images)\n",
    "    loss = loss_function(outputs, labels)\n",
    "    loss.backward()\n",
    "    optimizer.step()\n",
    "    \n",
    "  print('Epoch [%d/%d], Step [%d/%d], Loss: %.4f' %(epoch+1, num_epochs, i+1, len(train_data)//batch_size, loss.data))"
   ],
   "execution_count": null,
   "outputs": [
    {
     "output_type": "stream",
     "name": "stdout",
     "text": [
      "Epoch [1/20], Step [600/600], Loss: 0.2044\n",
      "Epoch [2/20], Step [600/600], Loss: 0.1851\n",
      "Epoch [3/20], Step [600/600], Loss: 0.1422\n",
      "Epoch [4/20], Step [600/600], Loss: 0.1498\n",
      "Epoch [5/20], Step [600/600], Loss: 0.1196\n",
      "Epoch [6/20], Step [600/600], Loss: 0.0785\n",
      "Epoch [7/20], Step [600/600], Loss: 0.1234\n",
      "Epoch [8/20], Step [600/600], Loss: 0.0453\n",
      "Epoch [9/20], Step [600/600], Loss: 0.0412\n",
      "Epoch [10/20], Step [600/600], Loss: 0.0449\n",
      "Epoch [11/20], Step [600/600], Loss: 0.0289\n",
      "Epoch [12/20], Step [600/600], Loss: 0.0601\n",
      "Epoch [13/20], Step [600/600], Loss: 0.0143\n",
      "Epoch [14/20], Step [600/600], Loss: 0.0483\n",
      "Epoch [15/20], Step [600/600], Loss: 0.0024\n",
      "Epoch [16/20], Step [600/600], Loss: 0.0975\n",
      "Epoch [17/20], Step [600/600], Loss: 0.0125\n",
      "Epoch [18/20], Step [600/600], Loss: 0.0011\n",
      "Epoch [19/20], Step [600/600], Loss: 0.0153\n",
      "Epoch [20/20], Step [600/600], Loss: 0.0010\n"
     ]
    }
   ]
  },
  {
   "cell_type": "markdown",
   "source": [
    "## Evaluation of the model. \n",
    "The model has decreased the loss during the training, but Loss is not a very intuitive metric. We will first evaluate the metric on the training set."
   ],
   "metadata": {
    "id": "N91COub8Ad8W",
    "pycharm": {
     "name": "#%% md\n"
    }
   }
  },
  {
   "cell_type": "code",
   "source": [
    "# Training accuracy \n",
    "correct = 0\n",
    "total = 0\n",
    "for images,labels in train_gen:\n",
    "  images = Variable(images.view(-1,28*28)).cuda()\n",
    "  labels = labels.cuda()\n",
    "  \n",
    "  output = net(images)\n",
    "  _, predicted = torch.max(output,1)\n",
    "  correct += (predicted == labels).sum()\n",
    "  total += labels.size(0)\n",
    "\n",
    "print('Training Accuracy of the model: %.3f %%' %((100*correct)/(total+1)))"
   ],
   "metadata": {
    "colab": {
     "base_uri": "https://localhost:8080/"
    },
    "id": "ti7QcVu6BOF6",
    "outputId": "bb98064e-edb7-46d5-d599-f65a2371e483",
    "pycharm": {
     "name": "#%%\n"
    }
   },
   "execution_count": null,
   "outputs": [
    {
     "output_type": "stream",
     "name": "stdout",
     "text": [
      "Training Accuracy of the model: 99.658 %\n"
     ]
    }
   ]
  },
  {
   "cell_type": "markdown",
   "source": [
    "## Evaluation on the test set\n",
    "Check the overfitting!"
   ],
   "metadata": {
    "id": "IcPgbJV5CEZO",
    "pycharm": {
     "name": "#%% md\n"
    }
   }
  },
  {
   "metadata": {
    "id": "DTPvMW5jHB9X",
    "colab": {
     "base_uri": "https://localhost:8080/"
    },
    "outputId": "b8ca378c-52e7-499f-ec80-28596a57f7fc",
    "pycharm": {
     "name": "#%%\n"
    }
   },
   "cell_type": "code",
   "source": [
    "#Evaluating the accuracy of the model\n",
    "\n",
    "correct = 0\n",
    "total = 0\n",
    "for images,labels in test_gen:\n",
    "  images = Variable(images.view(-1,28*28)).cuda()\n",
    "  labels = labels.cuda()\n",
    "  \n",
    "  output = net(images)\n",
    "  _, predicted = torch.max(output,1)\n",
    "  correct += (predicted == labels).sum()\n",
    "  total += labels.size(0)\n",
    "\n",
    "print('Accuracy of the model: %.3f %%' %((100*correct)/(total+1)))"
   ],
   "execution_count": null,
   "outputs": [
    {
     "output_type": "stream",
     "name": "stdout",
     "text": [
      "Accuracy of the model: 98.030 %\n"
     ]
    }
   ]
  },
  {
   "cell_type": "markdown",
   "source": [
    "## Now is your turn. Some things you can try:\n",
    "\n",
    "*   Modify the batch size. The batch size is a number of samples processed before the model is updated. \n",
    "*   Modify the number of epochs. The number of epochs is the number of complete passes through the training dataset.\n",
    "*   Modify the learning rate. The learning rate controls how quickly the model is adapted to the problem\n",
    "*   Try adding new hidden Fully Connected layers and activation functions. Be careful with the size of each layer as they must be consistent. Save the original Neural Network before doing this implementations.\n",
    "\n",
    "\n",
    "\n"
   ],
   "metadata": {
    "id": "zpWY3gCECNFn",
    "pycharm": {
     "name": "#%% md\n"
    }
   }
  }
 ]
}